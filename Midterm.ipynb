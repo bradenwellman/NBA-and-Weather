{
 "cells": [
  {
   "cell_type": "code",
   "execution_count": null,
   "id": "eb24258d",
   "metadata": {},
   "outputs": [],
   "source": [
    "# ---------------------------- PART 1 -------------------------------\n",
    "\n",
    "# The tb dataset countains tuberculosis counts from 2000-2018.\n",
    "# There are 6 variables: year, age, category, race, sex, Us-Born and Tb Count"
   ]
  },
  {
   "cell_type": "code",
   "execution_count": 1,
   "id": "5c39700a",
   "metadata": {},
   "outputs": [],
   "source": [
    "# We always need pandas and numpy\n",
    "import pandas as pd\n",
    "import numpy as np"
   ]
  },
  {
   "cell_type": "code",
   "execution_count": 2,
   "id": "3c0637c4",
   "metadata": {
    "collapsed": true
   },
   "outputs": [
    {
     "data": {
      "text/html": [
       "<div>\n",
       "<style scoped>\n",
       "    .dataframe tbody tr th:only-of-type {\n",
       "        vertical-align: middle;\n",
       "    }\n",
       "\n",
       "    .dataframe tbody tr th {\n",
       "        vertical-align: top;\n",
       "    }\n",
       "\n",
       "    .dataframe thead th {\n",
       "        text-align: right;\n",
       "    }\n",
       "</style>\n",
       "<table border=\"1\" class=\"dataframe\">\n",
       "  <thead>\n",
       "    <tr style=\"text-align: right;\">\n",
       "      <th></th>\n",
       "      <th>Time</th>\n",
       "      <th>0-4 - White - Male - Non-U.S.-born</th>\n",
       "      <th>0-4 - White - Male - US-born</th>\n",
       "      <th>0-4 - White - Female - Non-U.S.-born</th>\n",
       "      <th>0-4 - White - Female - US-born</th>\n",
       "      <th>0-4 - Black - Male - Non-U.S.-born</th>\n",
       "      <th>0-4 - Black - Male - US-born</th>\n",
       "      <th>0-4 - Black - Female - Non-U.S.-born</th>\n",
       "      <th>0-4 - Black - Female - US-born</th>\n",
       "      <th>0-4 - American Indian - Male - Non-U.S.-born</th>\n",
       "      <th>...</th>\n",
       "      <th>65+ - Asian - Female - Non-U.S.-born</th>\n",
       "      <th>65+ - Asian - Female - US-born</th>\n",
       "      <th>65+ - Hawaiian or other Pacific Islander - Male - Non-U.S.-born</th>\n",
       "      <th>65+ - Hawaiian or other Pacific Islander - Male - US-born</th>\n",
       "      <th>65+ - Hawaiian or other Pacific Islander - Female - Non-U.S.-born</th>\n",
       "      <th>65+ - Hawaiian or other Pacific Islander - Female - US-born</th>\n",
       "      <th>65+ - Hispanic - Male - Non-U.S.-born</th>\n",
       "      <th>65+ - Hispanic - Male - US-born</th>\n",
       "      <th>65+ - Hispanic - Female - Non-U.S.-born</th>\n",
       "      <th>65+ - Hispanic - Female - US-born</th>\n",
       "    </tr>\n",
       "  </thead>\n",
       "  <tbody>\n",
       "    <tr>\n",
       "      <th>0</th>\n",
       "      <td>2000</td>\n",
       "      <td>3</td>\n",
       "      <td>31</td>\n",
       "      <td>5</td>\n",
       "      <td>30</td>\n",
       "      <td>3</td>\n",
       "      <td>85</td>\n",
       "      <td>8</td>\n",
       "      <td>77</td>\n",
       "      <td>0</td>\n",
       "      <td>...</td>\n",
       "      <td>256</td>\n",
       "      <td>5</td>\n",
       "      <td>2</td>\n",
       "      <td>1</td>\n",
       "      <td>2</td>\n",
       "      <td>4</td>\n",
       "      <td>199</td>\n",
       "      <td>84</td>\n",
       "      <td>139</td>\n",
       "      <td>67</td>\n",
       "    </tr>\n",
       "    <tr>\n",
       "      <th>1</th>\n",
       "      <td>2001</td>\n",
       "      <td>6</td>\n",
       "      <td>27</td>\n",
       "      <td>6</td>\n",
       "      <td>21</td>\n",
       "      <td>13</td>\n",
       "      <td>68</td>\n",
       "      <td>5</td>\n",
       "      <td>78</td>\n",
       "      <td>0</td>\n",
       "      <td>...</td>\n",
       "      <td>295</td>\n",
       "      <td>7</td>\n",
       "      <td>1</td>\n",
       "      <td>2</td>\n",
       "      <td>1</td>\n",
       "      <td>2</td>\n",
       "      <td>211</td>\n",
       "      <td>85</td>\n",
       "      <td>162</td>\n",
       "      <td>69</td>\n",
       "    </tr>\n",
       "    <tr>\n",
       "      <th>2</th>\n",
       "      <td>2002</td>\n",
       "      <td>5</td>\n",
       "      <td>26</td>\n",
       "      <td>6</td>\n",
       "      <td>23</td>\n",
       "      <td>3</td>\n",
       "      <td>88</td>\n",
       "      <td>6</td>\n",
       "      <td>81</td>\n",
       "      <td>0</td>\n",
       "      <td>...</td>\n",
       "      <td>266</td>\n",
       "      <td>11</td>\n",
       "      <td>1</td>\n",
       "      <td>1</td>\n",
       "      <td>2</td>\n",
       "      <td>1</td>\n",
       "      <td>235</td>\n",
       "      <td>56</td>\n",
       "      <td>149</td>\n",
       "      <td>58</td>\n",
       "    </tr>\n",
       "    <tr>\n",
       "      <th>3</th>\n",
       "      <td>2003</td>\n",
       "      <td>6</td>\n",
       "      <td>24</td>\n",
       "      <td>2</td>\n",
       "      <td>22</td>\n",
       "      <td>5</td>\n",
       "      <td>66</td>\n",
       "      <td>7</td>\n",
       "      <td>65</td>\n",
       "      <td>0</td>\n",
       "      <td>...</td>\n",
       "      <td>277</td>\n",
       "      <td>6</td>\n",
       "      <td>4</td>\n",
       "      <td>0</td>\n",
       "      <td>1</td>\n",
       "      <td>4</td>\n",
       "      <td>222</td>\n",
       "      <td>76</td>\n",
       "      <td>149</td>\n",
       "      <td>53</td>\n",
       "    </tr>\n",
       "    <tr>\n",
       "      <th>4</th>\n",
       "      <td>2004</td>\n",
       "      <td>9</td>\n",
       "      <td>20</td>\n",
       "      <td>3</td>\n",
       "      <td>14</td>\n",
       "      <td>19</td>\n",
       "      <td>63</td>\n",
       "      <td>6</td>\n",
       "      <td>61</td>\n",
       "      <td>0</td>\n",
       "      <td>...</td>\n",
       "      <td>274</td>\n",
       "      <td>7</td>\n",
       "      <td>0</td>\n",
       "      <td>1</td>\n",
       "      <td>1</td>\n",
       "      <td>2</td>\n",
       "      <td>235</td>\n",
       "      <td>96</td>\n",
       "      <td>157</td>\n",
       "      <td>61</td>\n",
       "    </tr>\n",
       "  </tbody>\n",
       "</table>\n",
       "<p>5 rows × 193 columns</p>\n",
       "</div>"
      ],
      "text/plain": [
       "   Time  0-4 - White - Male - Non-U.S.-born  0-4 - White - Male - US-born  \\\n",
       "0  2000                                   3                            31   \n",
       "1  2001                                   6                            27   \n",
       "2  2002                                   5                            26   \n",
       "3  2003                                   6                            24   \n",
       "4  2004                                   9                            20   \n",
       "\n",
       "   0-4 - White - Female - Non-U.S.-born  0-4 - White - Female - US-born  \\\n",
       "0                                     5                              30   \n",
       "1                                     6                              21   \n",
       "2                                     6                              23   \n",
       "3                                     2                              22   \n",
       "4                                     3                              14   \n",
       "\n",
       "   0-4 - Black - Male - Non-U.S.-born  0-4 - Black - Male - US-born  \\\n",
       "0                                   3                            85   \n",
       "1                                  13                            68   \n",
       "2                                   3                            88   \n",
       "3                                   5                            66   \n",
       "4                                  19                            63   \n",
       "\n",
       "   0-4 - Black - Female - Non-U.S.-born  0-4 - Black - Female - US-born  \\\n",
       "0                                     8                              77   \n",
       "1                                     5                              78   \n",
       "2                                     6                              81   \n",
       "3                                     7                              65   \n",
       "4                                     6                              61   \n",
       "\n",
       "   0-4 - American Indian - Male - Non-U.S.-born  ...  \\\n",
       "0                                             0  ...   \n",
       "1                                             0  ...   \n",
       "2                                             0  ...   \n",
       "3                                             0  ...   \n",
       "4                                             0  ...   \n",
       "\n",
       "   65+ - Asian - Female - Non-U.S.-born  65+ - Asian - Female - US-born  \\\n",
       "0                                   256                               5   \n",
       "1                                   295                               7   \n",
       "2                                   266                              11   \n",
       "3                                   277                               6   \n",
       "4                                   274                               7   \n",
       "\n",
       "   65+ - Hawaiian or other Pacific Islander - Male - Non-U.S.-born  \\\n",
       "0                                                  2                 \n",
       "1                                                  1                 \n",
       "2                                                  1                 \n",
       "3                                                  4                 \n",
       "4                                                  0                 \n",
       "\n",
       "   65+ - Hawaiian or other Pacific Islander - Male - US-born  \\\n",
       "0                                                  1           \n",
       "1                                                  2           \n",
       "2                                                  1           \n",
       "3                                                  0           \n",
       "4                                                  1           \n",
       "\n",
       "   65+ - Hawaiian or other Pacific Islander - Female - Non-U.S.-born  \\\n",
       "0                                                  2                   \n",
       "1                                                  1                   \n",
       "2                                                  2                   \n",
       "3                                                  1                   \n",
       "4                                                  1                   \n",
       "\n",
       "   65+ - Hawaiian or other Pacific Islander - Female - US-born  \\\n",
       "0                                                  4             \n",
       "1                                                  2             \n",
       "2                                                  1             \n",
       "3                                                  4             \n",
       "4                                                  2             \n",
       "\n",
       "   65+ - Hispanic - Male - Non-U.S.-born  65+ - Hispanic - Male - US-born  \\\n",
       "0                                    199                               84   \n",
       "1                                    211                               85   \n",
       "2                                    235                               56   \n",
       "3                                    222                               76   \n",
       "4                                    235                               96   \n",
       "\n",
       "   65+ - Hispanic - Female - Non-U.S.-born  65+ - Hispanic - Female - US-born  \n",
       "0                                      139                                 67  \n",
       "1                                      162                                 69  \n",
       "2                                      149                                 58  \n",
       "3                                      149                                 53  \n",
       "4                                      157                                 61  \n",
       "\n",
       "[5 rows x 193 columns]"
      ]
     },
     "execution_count": 2,
     "metadata": {},
     "output_type": "execute_result"
    }
   ],
   "source": [
    "# 1. Read in the data. There should be 19 rows and 193 columns.\n",
    "# There is content at the top/bottom to be ignored.\n",
    "\n",
    "# Read in the data without top 8 and bottom 2\n",
    "messyTb = pd.read_csv('tb-dataplanet.csv', \n",
    "            skiprows = [i for i in range(0,8)],\n",
    "           skipfooter=2, engine = 'python')\n",
    "\n",
    "# Make sure we got what we wanted\n",
    "messyTb.head()"
   ]
  },
  {
   "cell_type": "code",
   "execution_count": 3,
   "id": "da2bb37c",
   "metadata": {},
   "outputs": [
    {
     "data": {
      "text/html": [
       "<div>\n",
       "<style scoped>\n",
       "    .dataframe tbody tr th:only-of-type {\n",
       "        vertical-align: middle;\n",
       "    }\n",
       "\n",
       "    .dataframe tbody tr th {\n",
       "        vertical-align: top;\n",
       "    }\n",
       "\n",
       "    .dataframe thead th {\n",
       "        text-align: right;\n",
       "    }\n",
       "</style>\n",
       "<table border=\"1\" class=\"dataframe\">\n",
       "  <thead>\n",
       "    <tr style=\"text-align: right;\">\n",
       "      <th></th>\n",
       "      <th>Time</th>\n",
       "      <th>MessyVars</th>\n",
       "      <th>TB</th>\n",
       "    </tr>\n",
       "  </thead>\n",
       "  <tbody>\n",
       "    <tr>\n",
       "      <th>0</th>\n",
       "      <td>2000</td>\n",
       "      <td>0-4 - White - Male - Non-U.S.-born</td>\n",
       "      <td>3</td>\n",
       "    </tr>\n",
       "    <tr>\n",
       "      <th>1</th>\n",
       "      <td>2001</td>\n",
       "      <td>0-4 - White - Male - Non-U.S.-born</td>\n",
       "      <td>6</td>\n",
       "    </tr>\n",
       "    <tr>\n",
       "      <th>2</th>\n",
       "      <td>2002</td>\n",
       "      <td>0-4 - White - Male - Non-U.S.-born</td>\n",
       "      <td>5</td>\n",
       "    </tr>\n",
       "    <tr>\n",
       "      <th>3</th>\n",
       "      <td>2003</td>\n",
       "      <td>0-4 - White - Male - Non-U.S.-born</td>\n",
       "      <td>6</td>\n",
       "    </tr>\n",
       "    <tr>\n",
       "      <th>4</th>\n",
       "      <td>2004</td>\n",
       "      <td>0-4 - White - Male - Non-U.S.-born</td>\n",
       "      <td>9</td>\n",
       "    </tr>\n",
       "    <tr>\n",
       "      <th>...</th>\n",
       "      <td>...</td>\n",
       "      <td>...</td>\n",
       "      <td>...</td>\n",
       "    </tr>\n",
       "    <tr>\n",
       "      <th>3643</th>\n",
       "      <td>2014</td>\n",
       "      <td>65+ - Hispanic - Female - US-born</td>\n",
       "      <td>27</td>\n",
       "    </tr>\n",
       "    <tr>\n",
       "      <th>3644</th>\n",
       "      <td>2015</td>\n",
       "      <td>65+ - Hispanic - Female - US-born</td>\n",
       "      <td>34</td>\n",
       "    </tr>\n",
       "    <tr>\n",
       "      <th>3645</th>\n",
       "      <td>2016</td>\n",
       "      <td>65+ - Hispanic - Female - US-born</td>\n",
       "      <td>35</td>\n",
       "    </tr>\n",
       "    <tr>\n",
       "      <th>3646</th>\n",
       "      <td>2017</td>\n",
       "      <td>65+ - Hispanic - Female - US-born</td>\n",
       "      <td>30</td>\n",
       "    </tr>\n",
       "    <tr>\n",
       "      <th>3647</th>\n",
       "      <td>2018</td>\n",
       "      <td>65+ - Hispanic - Female - US-born</td>\n",
       "      <td>33</td>\n",
       "    </tr>\n",
       "  </tbody>\n",
       "</table>\n",
       "<p>3648 rows × 3 columns</p>\n",
       "</div>"
      ],
      "text/plain": [
       "      Time                           MessyVars  TB\n",
       "0     2000  0-4 - White - Male - Non-U.S.-born   3\n",
       "1     2001  0-4 - White - Male - Non-U.S.-born   6\n",
       "2     2002  0-4 - White - Male - Non-U.S.-born   5\n",
       "3     2003  0-4 - White - Male - Non-U.S.-born   6\n",
       "4     2004  0-4 - White - Male - Non-U.S.-born   9\n",
       "...    ...                                 ...  ..\n",
       "3643  2014   65+ - Hispanic - Female - US-born  27\n",
       "3644  2015   65+ - Hispanic - Female - US-born  34\n",
       "3645  2016   65+ - Hispanic - Female - US-born  35\n",
       "3646  2017   65+ - Hispanic - Female - US-born  30\n",
       "3647  2018   65+ - Hispanic - Female - US-born  33\n",
       "\n",
       "[3648 rows x 3 columns]"
      ]
     },
     "execution_count": 3,
     "metadata": {},
     "output_type": "execute_result"
    }
   ],
   "source": [
    "# 2. Convert the DataFrame into a Tidy DataFrame\n",
    "\n",
    "# The columns we want to keep\n",
    "id_vars = messyTb.columns.values[0]\n",
    "\n",
    "# Making one variable\n",
    "messyMelted = pd.melt(frame = messyTb, id_vars = id_vars, var_name = 'MessyVars', value_name = 'TB')\n",
    "\n",
    "# Make sure it worked\n",
    "messyMelted\n"
   ]
  },
  {
   "cell_type": "code",
   "execution_count": 4,
   "id": "2aa219ce",
   "metadata": {},
   "outputs": [
    {
     "name": "stderr",
     "output_type": "stream",
     "text": [
      "/var/folders/dz/brzyldnd7cq32fnrw7lv3dpm0000gn/T/ipykernel_55789/1162556314.py:8: SettingWithCopyWarning: \n",
      "A value is trying to be set on a copy of a slice from a DataFrame\n",
      "\n",
      "See the caveats in the documentation: https://pandas.pydata.org/pandas-docs/stable/user_guide/indexing.html#returning-a-view-versus-a-copy\n",
      "  messyMelted['Age'][i] = messyMelted['MessyVars'][i][0:3]\n"
     ]
    },
    {
     "data": {
      "text/plain": [
       "0-4    456\n",
       "05-    456\n",
       "15-    456\n",
       "25-    456\n",
       "35-    456\n",
       "45-    456\n",
       "55-    456\n",
       "65+    456\n",
       "Name: Age, dtype: int64"
      ]
     },
     "execution_count": 4,
     "metadata": {},
     "output_type": "execute_result"
    }
   ],
   "source": [
    "# New column for age\n",
    "messyMelted['Age'] = \"\"\n",
    "\n",
    "# Loop through the dataset\n",
    "for i in range(0, len(messyMelted)):\n",
    "    \n",
    "    # Assign age as the first 4 values in MessyVars string\n",
    "    messyMelted['Age'][i] = messyMelted['MessyVars'][i][0:3]\n",
    "\n",
    "# Make sure we did this right\n",
    "messyMelted.head(50)\n",
    "\n",
    "# Check value counts\n",
    "messyMelted['Age'].value_counts()"
   ]
  },
  {
   "cell_type": "code",
   "execution_count": 5,
   "id": "61081790",
   "metadata": {},
   "outputs": [
    {
     "name": "stderr",
     "output_type": "stream",
     "text": [
      "/var/folders/dz/brzyldnd7cq32fnrw7lv3dpm0000gn/T/ipykernel_55789/4022241242.py:9: SettingWithCopyWarning: \n",
      "A value is trying to be set on a copy of a slice from a DataFrame\n",
      "\n",
      "See the caveats in the documentation: https://pandas.pydata.org/pandas-docs/stable/user_guide/indexing.html#returning-a-view-versus-a-copy\n",
      "  messyMelted['Race'][i] = messyMelted['MessyVars'][i][6:11]\n",
      "/var/folders/dz/brzyldnd7cq32fnrw7lv3dpm0000gn/T/ipykernel_55789/4022241242.py:13: SettingWithCopyWarning: \n",
      "A value is trying to be set on a copy of a slice from a DataFrame\n",
      "\n",
      "See the caveats in the documentation: https://pandas.pydata.org/pandas-docs/stable/user_guide/indexing.html#returning-a-view-versus-a-copy\n",
      "  messyMelted['Race'][i] = \"White\"\n",
      "/var/folders/dz/brzyldnd7cq32fnrw7lv3dpm0000gn/T/ipykernel_55789/4022241242.py:16: SettingWithCopyWarning: \n",
      "A value is trying to be set on a copy of a slice from a DataFrame\n",
      "\n",
      "See the caveats in the documentation: https://pandas.pydata.org/pandas-docs/stable/user_guide/indexing.html#returning-a-view-versus-a-copy\n",
      "  messyMelted['Sex'][i] = messyMelted['MessyVars'][i][16:19]\n",
      "/var/folders/dz/brzyldnd7cq32fnrw7lv3dpm0000gn/T/ipykernel_55789/4022241242.py:20: SettingWithCopyWarning: \n",
      "A value is trying to be set on a copy of a slice from a DataFrame\n",
      "\n",
      "See the caveats in the documentation: https://pandas.pydata.org/pandas-docs/stable/user_guide/indexing.html#returning-a-view-versus-a-copy\n",
      "  messyMelted['Sex'][i] = \"Mal\"\n",
      "/var/folders/dz/brzyldnd7cq32fnrw7lv3dpm0000gn/T/ipykernel_55789/4022241242.py:24: SettingWithCopyWarning: \n",
      "A value is trying to be set on a copy of a slice from a DataFrame\n",
      "\n",
      "See the caveats in the documentation: https://pandas.pydata.org/pandas-docs/stable/user_guide/indexing.html#returning-a-view-versus-a-copy\n",
      "  messyMelted['Sex'][i] = \"Fem\"\n",
      "/var/folders/dz/brzyldnd7cq32fnrw7lv3dpm0000gn/T/ipykernel_55789/4022241242.py:29: SettingWithCopyWarning: \n",
      "A value is trying to be set on a copy of a slice from a DataFrame\n",
      "\n",
      "See the caveats in the documentation: https://pandas.pydata.org/pandas-docs/stable/user_guide/indexing.html#returning-a-view-versus-a-copy\n",
      "  messyMelted['Race'][i] = \"Black\"\n",
      "/var/folders/dz/brzyldnd7cq32fnrw7lv3dpm0000gn/T/ipykernel_55789/4022241242.py:30: SettingWithCopyWarning: \n",
      "A value is trying to be set on a copy of a slice from a DataFrame\n",
      "\n",
      "See the caveats in the documentation: https://pandas.pydata.org/pandas-docs/stable/user_guide/indexing.html#returning-a-view-versus-a-copy\n",
      "  messyMelted['Sex'][i] = messyMelted['MessyVars'][i][16:19]\n",
      "/var/folders/dz/brzyldnd7cq32fnrw7lv3dpm0000gn/T/ipykernel_55789/4022241242.py:34: SettingWithCopyWarning: \n",
      "A value is trying to be set on a copy of a slice from a DataFrame\n",
      "\n",
      "See the caveats in the documentation: https://pandas.pydata.org/pandas-docs/stable/user_guide/indexing.html#returning-a-view-versus-a-copy\n",
      "  messyMelted['Sex'][i] = \"Mal\"\n",
      "/var/folders/dz/brzyldnd7cq32fnrw7lv3dpm0000gn/T/ipykernel_55789/4022241242.py:38: SettingWithCopyWarning: \n",
      "A value is trying to be set on a copy of a slice from a DataFrame\n",
      "\n",
      "See the caveats in the documentation: https://pandas.pydata.org/pandas-docs/stable/user_guide/indexing.html#returning-a-view-versus-a-copy\n",
      "  messyMelted['Sex'][i] = \"Fem\"\n",
      "/var/folders/dz/brzyldnd7cq32fnrw7lv3dpm0000gn/T/ipykernel_55789/4022241242.py:55: SettingWithCopyWarning: \n",
      "A value is trying to be set on a copy of a slice from a DataFrame\n",
      "\n",
      "See the caveats in the documentation: https://pandas.pydata.org/pandas-docs/stable/user_guide/indexing.html#returning-a-view-versus-a-copy\n",
      "  messyMelted['Race'][i] = \"American Indian\"\n",
      "/var/folders/dz/brzyldnd7cq32fnrw7lv3dpm0000gn/T/ipykernel_55789/4022241242.py:56: SettingWithCopyWarning: \n",
      "A value is trying to be set on a copy of a slice from a DataFrame\n",
      "\n",
      "See the caveats in the documentation: https://pandas.pydata.org/pandas-docs/stable/user_guide/indexing.html#returning-a-view-versus-a-copy\n",
      "  messyMelted['Sex'][i] = messyMelted['MessyVars'][i][26:29]\n",
      "/var/folders/dz/brzyldnd7cq32fnrw7lv3dpm0000gn/T/ipykernel_55789/4022241242.py:60: SettingWithCopyWarning: \n",
      "A value is trying to be set on a copy of a slice from a DataFrame\n",
      "\n",
      "See the caveats in the documentation: https://pandas.pydata.org/pandas-docs/stable/user_guide/indexing.html#returning-a-view-versus-a-copy\n",
      "  messyMelted['Sex'][i] = \"Mal\"\n",
      "/var/folders/dz/brzyldnd7cq32fnrw7lv3dpm0000gn/T/ipykernel_55789/4022241242.py:64: SettingWithCopyWarning: \n",
      "A value is trying to be set on a copy of a slice from a DataFrame\n",
      "\n",
      "See the caveats in the documentation: https://pandas.pydata.org/pandas-docs/stable/user_guide/indexing.html#returning-a-view-versus-a-copy\n",
      "  messyMelted['Sex'][i] = \"Fem\"\n",
      "/var/folders/dz/brzyldnd7cq32fnrw7lv3dpm0000gn/T/ipykernel_55789/4022241242.py:90: SettingWithCopyWarning: \n",
      "A value is trying to be set on a copy of a slice from a DataFrame\n",
      "\n",
      "See the caveats in the documentation: https://pandas.pydata.org/pandas-docs/stable/user_guide/indexing.html#returning-a-view-versus-a-copy\n",
      "  messyMelted['Race'][i] = \"Asian\"\n",
      "/var/folders/dz/brzyldnd7cq32fnrw7lv3dpm0000gn/T/ipykernel_55789/4022241242.py:91: SettingWithCopyWarning: \n",
      "A value is trying to be set on a copy of a slice from a DataFrame\n",
      "\n",
      "See the caveats in the documentation: https://pandas.pydata.org/pandas-docs/stable/user_guide/indexing.html#returning-a-view-versus-a-copy\n",
      "  messyMelted['Sex'][i] = messyMelted['MessyVars'][i][16:19]\n",
      "/var/folders/dz/brzyldnd7cq32fnrw7lv3dpm0000gn/T/ipykernel_55789/4022241242.py:95: SettingWithCopyWarning: \n",
      "A value is trying to be set on a copy of a slice from a DataFrame\n",
      "\n",
      "See the caveats in the documentation: https://pandas.pydata.org/pandas-docs/stable/user_guide/indexing.html#returning-a-view-versus-a-copy\n",
      "  messyMelted['Sex'][i] = \"Mal\"\n",
      "/var/folders/dz/brzyldnd7cq32fnrw7lv3dpm0000gn/T/ipykernel_55789/4022241242.py:99: SettingWithCopyWarning: \n",
      "A value is trying to be set on a copy of a slice from a DataFrame\n",
      "\n",
      "See the caveats in the documentation: https://pandas.pydata.org/pandas-docs/stable/user_guide/indexing.html#returning-a-view-versus-a-copy\n",
      "  messyMelted['Sex'][i] = \"Fem\"\n",
      "/var/folders/dz/brzyldnd7cq32fnrw7lv3dpm0000gn/T/ipykernel_55789/4022241242.py:68: SettingWithCopyWarning: \n",
      "A value is trying to be set on a copy of a slice from a DataFrame\n",
      "\n",
      "See the caveats in the documentation: https://pandas.pydata.org/pandas-docs/stable/user_guide/indexing.html#returning-a-view-versus-a-copy\n",
      "  messyMelted['Race'][i] = \"Hawaiian\"\n",
      "/var/folders/dz/brzyldnd7cq32fnrw7lv3dpm0000gn/T/ipykernel_55789/4022241242.py:69: SettingWithCopyWarning: \n",
      "A value is trying to be set on a copy of a slice from a DataFrame\n",
      "\n",
      "See the caveats in the documentation: https://pandas.pydata.org/pandas-docs/stable/user_guide/indexing.html#returning-a-view-versus-a-copy\n",
      "  messyMelted['Sex'][i] = messyMelted['MessyVars'][i][47:50]\n",
      "/var/folders/dz/brzyldnd7cq32fnrw7lv3dpm0000gn/T/ipykernel_55789/4022241242.py:85: SettingWithCopyWarning: \n",
      "A value is trying to be set on a copy of a slice from a DataFrame\n",
      "\n",
      "See the caveats in the documentation: https://pandas.pydata.org/pandas-docs/stable/user_guide/indexing.html#returning-a-view-versus-a-copy\n",
      "  messyMelted['Sex'][i] = \"Fem\"\n",
      "/var/folders/dz/brzyldnd7cq32fnrw7lv3dpm0000gn/T/ipykernel_55789/4022241242.py:73: SettingWithCopyWarning: \n",
      "A value is trying to be set on a copy of a slice from a DataFrame\n",
      "\n",
      "See the caveats in the documentation: https://pandas.pydata.org/pandas-docs/stable/user_guide/indexing.html#returning-a-view-versus-a-copy\n",
      "  messyMelted['Sex'][i] = \"Mal\"\n",
      "/var/folders/dz/brzyldnd7cq32fnrw7lv3dpm0000gn/T/ipykernel_55789/4022241242.py:42: SettingWithCopyWarning: \n",
      "A value is trying to be set on a copy of a slice from a DataFrame\n",
      "\n",
      "See the caveats in the documentation: https://pandas.pydata.org/pandas-docs/stable/user_guide/indexing.html#returning-a-view-versus-a-copy\n",
      "  messyMelted['Race'][i] = \"Hispanic\"\n",
      "/var/folders/dz/brzyldnd7cq32fnrw7lv3dpm0000gn/T/ipykernel_55789/4022241242.py:43: SettingWithCopyWarning: \n",
      "A value is trying to be set on a copy of a slice from a DataFrame\n",
      "\n",
      "See the caveats in the documentation: https://pandas.pydata.org/pandas-docs/stable/user_guide/indexing.html#returning-a-view-versus-a-copy\n",
      "  messyMelted['Sex'][i] = messyMelted['MessyVars'][i][19:22]\n",
      "/var/folders/dz/brzyldnd7cq32fnrw7lv3dpm0000gn/T/ipykernel_55789/4022241242.py:47: SettingWithCopyWarning: \n",
      "A value is trying to be set on a copy of a slice from a DataFrame\n",
      "\n",
      "See the caveats in the documentation: https://pandas.pydata.org/pandas-docs/stable/user_guide/indexing.html#returning-a-view-versus-a-copy\n",
      "  messyMelted['Sex'][i] = \"Mal\"\n",
      "/var/folders/dz/brzyldnd7cq32fnrw7lv3dpm0000gn/T/ipykernel_55789/4022241242.py:51: SettingWithCopyWarning: \n",
      "A value is trying to be set on a copy of a slice from a DataFrame\n",
      "\n",
      "See the caveats in the documentation: https://pandas.pydata.org/pandas-docs/stable/user_guide/indexing.html#returning-a-view-versus-a-copy\n",
      "  messyMelted['Sex'][i] = \"Fem\"\n"
     ]
    },
    {
     "name": "stderr",
     "output_type": "stream",
     "text": [
      "/var/folders/dz/brzyldnd7cq32fnrw7lv3dpm0000gn/T/ipykernel_55789/4022241242.py:77: SettingWithCopyWarning: \n",
      "A value is trying to be set on a copy of a slice from a DataFrame\n",
      "\n",
      "See the caveats in the documentation: https://pandas.pydata.org/pandas-docs/stable/user_guide/indexing.html#returning-a-view-versus-a-copy\n",
      "  messyMelted['Sex'][i] = \"Fem\"\n"
     ]
    },
    {
     "data": {
      "text/plain": [
       "Mal    1824\n",
       "Fem    1824\n",
       "Name: Sex, dtype: int64"
      ]
     },
     "execution_count": 5,
     "metadata": {},
     "output_type": "execute_result"
    }
   ],
   "source": [
    "# Let's do the same thing for race and sex\n",
    "messyMelted['Race'] = \"\"\n",
    "messyMelted['Sex'] = \"\"\n",
    "\n",
    "# Loop through the dataset\n",
    "for i in range(0, len(messyMelted)):\n",
    "    \n",
    "    # Assign Race as the 6th through 11th values of the string\n",
    "    messyMelted['Race'][i] = messyMelted['MessyVars'][i][6:11]\n",
    "    \n",
    "    # ----------------------------- IF THE PERSON IS WHITE ---------------------------\n",
    "    if (messyMelted['Race'][i] == \"- Whi\" or messyMelted['Race'][i] == \"White\"):\n",
    "        messyMelted['Race'][i] = \"White\"\n",
    "        \n",
    "        # Assign the sex\n",
    "        messyMelted['Sex'][i] = messyMelted['MessyVars'][i][16:19]\n",
    "        \n",
    "        # The 65+ String makes it strange, need to control\n",
    "        if (messyMelted['Sex'][i] == \"le \"):\n",
    "            messyMelted['Sex'][i] = \"Mal\"\n",
    "            \n",
    "        # If they are female\n",
    "        elif (messyMelted['Sex'][i] == \"mal\"):\n",
    "            messyMelted['Sex'][i] = \"Fem\"\n",
    "    \n",
    "        \n",
    "    # ----------------------------- IF THE PERSON IS BLACK ---------------------------\n",
    "    if (messyMelted['Race'][i] == \"- Bla\" or messyMelted['Race'][i] == \"Black\"):\n",
    "        messyMelted['Race'][i] = \"Black\"\n",
    "        messyMelted['Sex'][i] = messyMelted['MessyVars'][i][16:19]\n",
    "        \n",
    "        # The 65+ String makes it strange, need to control\n",
    "        if (messyMelted['Sex'][i] == \"le \"):\n",
    "            messyMelted['Sex'][i] = \"Mal\"\n",
    "            \n",
    "        # If they are female\n",
    "        elif (messyMelted['Sex'][i] == \"mal\"):\n",
    "            messyMelted['Sex'][i] = \"Fem\"\n",
    "        \n",
    "    # ----------------------------- IF THE PERSON IS HISPANIC ---------------------------\n",
    "    if (messyMelted['Race'][i] == \"- His\" or messyMelted['Race'][i] == \"Hispa\"):\n",
    "        messyMelted['Race'][i] = \"Hispanic\"\n",
    "        messyMelted['Sex'][i] = messyMelted['MessyVars'][i][19:22]\n",
    "        \n",
    "         # The 65+ String makes it strange, need to control\n",
    "        if (messyMelted['Sex'][i] == \"le \"):\n",
    "            messyMelted['Sex'][i] = \"Mal\"\n",
    "            \n",
    "        # If they are female\n",
    "        elif (messyMelted['Sex'][i] == \"mal\"):\n",
    "            messyMelted['Sex'][i] = \"Fem\"\n",
    "        \n",
    "    # ------------------------- IF THE PERSON IS AMERICAN INDIAN ---------------------------\n",
    "    if (messyMelted['Race'][i] == \"- Ame\" or messyMelted['Race'][i] == \"Ameri\"):\n",
    "        messyMelted['Race'][i] = \"American Indian\"\n",
    "        messyMelted['Sex'][i] = messyMelted['MessyVars'][i][26:29]\n",
    "        \n",
    "                # The 65+ String makes it strange, need to control\n",
    "        if (messyMelted['Sex'][i] == \"le \"):\n",
    "            messyMelted['Sex'][i] = \"Mal\"\n",
    "            \n",
    "        # If they are female\n",
    "        elif (messyMelted['Sex'][i] == \"mal\"):\n",
    "            messyMelted['Sex'][i] = \"Fem\"\n",
    "        \n",
    "    # ------------------------- IF THE PERSON IS Hawaiin ---------------------------\n",
    "    if (messyMelted['Race'][i] == \"- Haw\" or messyMelted['Race'][i] == \"Hawai\"):\n",
    "        messyMelted['Race'][i] = \"Hawaiian\"\n",
    "        messyMelted['Sex'][i] = messyMelted['MessyVars'][i][47:50]\n",
    "        \n",
    "                        # The 65+ String makes it strange, need to control\n",
    "        if (messyMelted['Sex'][i] == \"le \"):\n",
    "            messyMelted['Sex'][i] = \"Mal\"\n",
    "            \n",
    "        # If they are female\n",
    "        elif (messyMelted['Sex'][i] == \"mal\"):\n",
    "            messyMelted['Sex'][i] = \"Fem\"\n",
    "            \n",
    "        # If they are female\n",
    "        elif (messyMelted['Sex'][i] == \"   \"):\n",
    "            messyMelted['Sex'][i] = \"Mal\"\n",
    "            \n",
    "        # If they are female\n",
    "        elif (messyMelted['Sex'][i] == \" - \"):\n",
    "            messyMelted['Sex'][i] = \"Fem\"\n",
    "            \n",
    "              \n",
    "    # ------------------------- IF THE PERSON IS ASIAN ---------------------------\n",
    "    if (messyMelted['Race'][i] == \"- Asi\" or messyMelted['Race'][i] == \"Asian\"):\n",
    "        messyMelted['Race'][i] = \"Asian\"\n",
    "        messyMelted['Sex'][i] = messyMelted['MessyVars'][i][16:19]\n",
    "        \n",
    "        # The 65+ String makes it strange, need to control\n",
    "        if (messyMelted['Sex'][i] == \"le \"):\n",
    "            messyMelted['Sex'][i] = \"Mal\"\n",
    "            \n",
    "        # If they are female\n",
    "        elif (messyMelted['Sex'][i] == \"mal\"):\n",
    "            messyMelted['Sex'][i] = \"Fem\"\n",
    "        \n",
    "# Make sure we did this right\n",
    "messyMelted['Sex'].value_counts()\n"
   ]
  },
  {
   "cell_type": "code",
   "execution_count": 6,
   "id": "a973b238",
   "metadata": {},
   "outputs": [
    {
     "name": "stderr",
     "output_type": "stream",
     "text": [
      "/var/folders/dz/brzyldnd7cq32fnrw7lv3dpm0000gn/T/ipykernel_55789/542630326.py:9: SettingWithCopyWarning: \n",
      "A value is trying to be set on a copy of a slice from a DataFrame\n",
      "\n",
      "See the caveats in the documentation: https://pandas.pydata.org/pandas-docs/stable/user_guide/indexing.html#returning-a-view-versus-a-copy\n",
      "  messyMelted['Temp'][i] = messyMelted['MessyVars'][i][::-1]\n",
      "/var/folders/dz/brzyldnd7cq32fnrw7lv3dpm0000gn/T/ipykernel_55789/542630326.py:12: SettingWithCopyWarning: \n",
      "A value is trying to be set on a copy of a slice from a DataFrame\n",
      "\n",
      "See the caveats in the documentation: https://pandas.pydata.org/pandas-docs/stable/user_guide/indexing.html#returning-a-view-versus-a-copy\n",
      "  messyMelted['US'][i] = messyMelted['Temp'][i][10:13]\n",
      "/var/folders/dz/brzyldnd7cq32fnrw7lv3dpm0000gn/T/ipykernel_55789/542630326.py:20: SettingWithCopyWarning: \n",
      "A value is trying to be set on a copy of a slice from a DataFrame\n",
      "\n",
      "See the caveats in the documentation: https://pandas.pydata.org/pandas-docs/stable/user_guide/indexing.html#returning-a-view-versus-a-copy\n",
      "  messyMelted['US'][i] = \"0\"\n",
      "/var/folders/dz/brzyldnd7cq32fnrw7lv3dpm0000gn/T/ipykernel_55789/542630326.py:16: SettingWithCopyWarning: \n",
      "A value is trying to be set on a copy of a slice from a DataFrame\n",
      "\n",
      "See the caveats in the documentation: https://pandas.pydata.org/pandas-docs/stable/user_guide/indexing.html#returning-a-view-versus-a-copy\n",
      "  messyMelted['US'][i] = \"1\"\n"
     ]
    }
   ],
   "source": [
    "# Create a temporary are U.S Column\n",
    "messyMelted['Temp'] = \"\"\n",
    "messyMelted['US'] = \"\"\n",
    "\n",
    "# Loop through the Dataset\n",
    "for i in range(0, len(messyMelted)):\n",
    "    \n",
    "    # Reverse the string\n",
    "    messyMelted['Temp'][i] = messyMelted['MessyVars'][i][::-1]\n",
    "    \n",
    "    # Extract whether or not they are U.S Born\n",
    "    messyMelted['US'][i] = messyMelted['Temp'][i][10:13]\n",
    "    \n",
    "    # Exceptions\n",
    "    if (messyMelted['US'][i] == \"ela\"):\n",
    "        messyMelted['US'][i] = \"1\"\n",
    "        \n",
    "    # Exceptions\n",
    "    else:\n",
    "        messyMelted['US'][i] = \"0\"\n",
    "\n",
    "# Drop the unessecary columns\n",
    "messyMelted = messyMelted.drop(['Temp', 'MessyVars'], axis=1)"
   ]
  },
  {
   "cell_type": "code",
   "execution_count": 7,
   "id": "d80fc982",
   "metadata": {},
   "outputs": [
    {
     "name": "stdout",
     "output_type": "stream",
     "text": [
      "    Time  TB  Age   Race  Sex US\n",
      "0   2000   3  0-4  White  Mal  0\n",
      "1   2001   6  0-4  White  Mal  0\n",
      "2   2002   5  0-4  White  Mal  0\n",
      "3   2003   6  0-4  White  Mal  0\n",
      "4   2004   9  0-4  White  Mal  0\n",
      "5   2005   5  0-4  White  Mal  0\n",
      "6   2006   3  0-4  White  Mal  0\n",
      "7   2007   3  0-4  White  Mal  0\n",
      "8   2008   2  0-4  White  Mal  0\n",
      "9   2009   2  0-4  White  Mal  0\n",
      "10  2010   1  0-4  White  Mal  0\n",
      "11  2011   2  0-4  White  Mal  0\n",
      "12  2012   0  0-4  White  Mal  0\n",
      "13  2013   3  0-4  White  Mal  0\n",
      "14  2014   1  0-4  White  Mal  0\n",
      "15  2015   2  0-4  White  Mal  0\n",
      "16  2016   1  0-4  White  Mal  0\n",
      "17  2017   0  0-4  White  Mal  0\n",
      "18  2018   1  0-4  White  Mal  0\n",
      "19  2000  31  0-4  White  Mal  1\n",
      "20  2001  27  0-4  White  Mal  1\n",
      "21  2002  26  0-4  White  Mal  1\n",
      "22  2003  24  0-4  White  Mal  1\n",
      "23  2004  20  0-4  White  Mal  1\n",
      "24  2005  13  0-4  White  Mal  1\n",
      "25  2006  19  0-4  White  Mal  1\n",
      "26  2007  15  0-4  White  Mal  1\n",
      "27  2008  15  0-4  White  Mal  1\n",
      "28  2009  14  0-4  White  Mal  1\n",
      "29  2010  10  0-4  White  Mal  1\n",
      "30  2011  18  0-4  White  Mal  1\n",
      "31  2012  10  0-4  White  Mal  1\n",
      "32  2013  14  0-4  White  Mal  1\n",
      "33  2014   7  0-4  White  Mal  1\n",
      "34  2015  11  0-4  White  Mal  1\n",
      "35  2016  11  0-4  White  Mal  1\n",
      "36  2017   7  0-4  White  Mal  1\n",
      "37  2018   4  0-4  White  Mal  1\n",
      "38  2000   5  0-4  White  Fem  0\n",
      "39  2001   6  0-4  White  Fem  0\n",
      "40  2002   6  0-4  White  Fem  0\n",
      "41  2003   2  0-4  White  Fem  0\n",
      "42  2004   3  0-4  White  Fem  0\n",
      "43  2005   3  0-4  White  Fem  0\n",
      "44  2006   4  0-4  White  Fem  0\n",
      "45  2007   2  0-4  White  Fem  0\n",
      "46  2008   3  0-4  White  Fem  0\n",
      "47  2009   2  0-4  White  Fem  0\n",
      "48  2010   3  0-4  White  Fem  0\n",
      "49  2011   1  0-4  White  Fem  0\n"
     ]
    }
   ],
   "source": [
    "# ANSWER: Here is the final dataset\n",
    "print(messyMelted.head(50))"
   ]
  },
  {
   "cell_type": "code",
   "execution_count": 8,
   "id": "13a49a9a",
   "metadata": {},
   "outputs": [],
   "source": [
    "# Use your tidy DataFrame to answer the following questions....\n",
    "# 3a. How many total TB cases were there in 2018?\n",
    "\n",
    "# First let's rename our columnn and dataframe\n",
    "tbDf = messyMelted.rename(columns={\"Time\": \"Year\"})\n",
    "\n",
    "# Change variables to categoricals\n",
    "tbDf.US = tbDf.US.astype('category')\n",
    "tbDf.Age = tbDf.Age.astype('category')\n",
    "tbDf.Race = tbDf.Race.astype('category')\n",
    "tbDf.Sex = tbDf.Sex.astype('category')\n",
    "tbDf.Year = tbDf.Year.astype('category')\n",
    "\n",
    "# Order them by year\n",
    "tbDf = tbDf.sort_values(by=['Year', 'Age', 'Race', 'Sex', 'US'])\n",
    "\n",
    "# Finally, reorder the columns\n",
    "tbDf = tbDf.iloc[:, [0,2,3,4,5,1]]"
   ]
  },
  {
   "cell_type": "code",
   "execution_count": 9,
   "id": "223551af",
   "metadata": {},
   "outputs": [
    {
     "data": {
      "text/plain": [
       "8878"
      ]
     },
     "execution_count": 9,
     "metadata": {},
     "output_type": "execute_result"
    }
   ],
   "source": [
    "# Create data of only 2018\n",
    "thisDf = tbDf['Year'] == 2018\n",
    "df2018 = tbDf[thisDf]\n",
    "\n",
    "# Check total TB cases\n",
    "sum(df2018['TB'])\n",
    "\n",
    "# ANSWER: 8878 cases in 2018"
   ]
  },
  {
   "cell_type": "code",
   "execution_count": 10,
   "id": "4b386ea9",
   "metadata": {},
   "outputs": [
    {
     "data": {
      "text/plain": [
       "6270"
      ]
     },
     "execution_count": 10,
     "metadata": {},
     "output_type": "execute_result"
    }
   ],
   "source": [
    "# 3b. How many total TB cases occurred for US-born hispanic females (over all years)?\n",
    "thisDf = tbDf['US'] == \"1\"\n",
    "usDf = tbDf[thisDf]\n",
    "\n",
    "# Same thing for Race\n",
    "thisDf = usDf['Race'] == \"Hispanic\"\n",
    "raceDf = usDf[thisDf]\n",
    "\n",
    "# And finally for sex\n",
    "thisDf = raceDf['Sex'] == \"Fem\"\n",
    "finalDf = raceDf[thisDf]\n",
    "\n",
    "# Check\n",
    "sum(finalDf['TB'])\n",
    "\n",
    "# ANSWER: 6270 cases for US-born hispanic females of all years"
   ]
  },
  {
   "cell_type": "code",
   "execution_count": 11,
   "id": "8d68c091",
   "metadata": {},
   "outputs": [
    {
     "data": {
      "text/plain": [
       "87929"
      ]
     },
     "execution_count": 11,
     "metadata": {},
     "output_type": "execute_result"
    }
   ],
   "source": [
    "# 3c. Overall who has more TB cases - males or females?\n",
    "# Also - what is the difference in the number of cases between males and females?\n",
    "\n",
    "# Create the male dataset\n",
    "tempDf = tbDf['Sex'] == \"Mal\"\n",
    "maleDf = tbDf[tempDf]\n",
    "\n",
    "# Same thing for females\n",
    "tempDf = tbDf['Sex'] == \"Fem\"\n",
    "femDf = tbDf[tempDf]\n",
    "\n",
    "# Overall for men\n",
    "sum(maleDf['TB'])\n",
    "\n",
    "# Overall for women\n",
    "sum(femDf['TB'])\n",
    "\n",
    "# ANSWER: 139617 male cases vs 87929 female cases (difference of 51688)"
   ]
  },
  {
   "cell_type": "code",
   "execution_count": 12,
   "id": "9ce5c515",
   "metadata": {},
   "outputs": [
    {
     "data": {
      "image/png": "[encoded data removed]",
      "text/plain": [
       "<Figure size 1620x864 with 1 Axes>"
      ]
     },
     "metadata": {
      "needs_background": "light"
     },
     "output_type": "display_data"
    }
   ],
   "source": [
    "# 4. Plot TB count (y) by year (x) with a separate line for each age group.\n",
    "# Adjust x axis so it only shows even years. Add legend on lower right and a title.\n",
    "\n",
    "# Get matplot lib\n",
    "import matplotlib.pyplot as plt\n",
    "\n",
    "# First we need to group by year\n",
    "averageTb = tbDf.groupby(['Year', 'Age']).mean()\n",
    "\n",
    "# Reset the index\n",
    "averageTb = averageTb.reset_index()\n",
    "\n",
    "# Change year to numeric\n",
    "averageTb[\"Year\"] = pd.to_numeric(averageTb[\"Year\"])\n",
    "\n",
    "# Import the seaborn package\n",
    "import seaborn as sns\n",
    "\n",
    "# Make sure that hue is Quarter (adjust the heaight and aspect)\n",
    "sns.lmplot(x = 'Year', y = 'TB', hue = 'Age', data = averageTb,\n",
    "           \n",
    "           # Adjust the technical aspect (come back and make title bigger)\n",
    "          height=12, aspect=15/8, legend=False).set(title='TB cases by Year and Age')\n",
    "\n",
    "# Add the legend to the lower right\n",
    "plt.legend(bbox_to_anchor=(1.02, 0.15), loc='upper left', borderaxespad=0, title = 'Age')\n",
    "\n",
    "# Plot it\n",
    "plt.show()\n"
   ]
  },
  {
   "cell_type": "code",
   "execution_count": 13,
   "id": "3f638421",
   "metadata": {},
   "outputs": [
    {
     "data": {
      "text/plain": [
       "<seaborn.axisgrid.FacetGrid at 0x115c837c0>"
      ]
     },
     "execution_count": 13,
     "metadata": {},
     "output_type": "execute_result"
    },
    {
     "data": {
      "image/png": "[encoded data removed]",
      "text/plain": [
       "<Figure size 597.125x720 with 4 Axes>"
      ]
     },
     "metadata": {
      "needs_background": "light"
     },
     "output_type": "display_data"
    }
   ],
   "source": [
    "# 5. Same plot with four facets broken down by sex and whether or not\n",
    "# they are US-born. (See provided documentation)\n",
    "\n",
    "# First we need to group by sex as well\n",
    "averageTb2 = tbDf.groupby(['Year', 'Age', 'Sex', 'US']).mean()\n",
    "\n",
    "# Reset the index\n",
    "averageTb2 = averageTb2.reset_index()\n",
    "\n",
    "# Change year to numeric\n",
    "averageTb2[\"Year\"] = pd.to_numeric(averageTb2[\"Year\"])\n",
    "\n",
    "# Plot the lines on our 4 facets\n",
    "sns.relplot(\n",
    "    \n",
    "    # Data, x axis, yaxis\n",
    "    data=averageTb2, x=\"Year\", y=\"TB\",\n",
    "    \n",
    "    # Color it by age, column US, row Sex\n",
    "    hue=\"Age\", col=\"US\", row='Sex',\n",
    "    \n",
    "    # Line plot and aesthetic aspects\n",
    "    kind=\"line\", height=5, aspect=.75, facet_kws=dict(sharex=False))"
   ]
  },
  {
   "cell_type": "code",
   "execution_count": null,
   "id": "860673c3",
   "metadata": {},
   "outputs": [],
   "source": [
    "# ----------------------------- PART 2 ------------------------------------"
   ]
  },
  {
   "cell_type": "code",
   "execution_count": 15,
   "id": "c4395e78",
   "metadata": {},
   "outputs": [
    {
     "ename": "URLError",
     "evalue": "<urlopen error [SSL: CERTIFICATE_VERIFY_FAILED] certificate verify failed: unable to get local issuer certificate (_ssl.c:1123)>",
     "output_type": "error",
     "traceback": [
      "\u001b[0;31m---------------------------------------------------------------------------\u001b[0m",
      "\u001b[0;31mSSLCertVerificationError\u001b[0m                  Traceback (most recent call last)",
      "\u001b[0;32m/Library/Frameworks/Python.framework/Versions/3.9/lib/python3.9/urllib/request.py\u001b[0m in \u001b[0;36mdo_open\u001b[0;34m(self, http_class, req, **http_conn_args)\u001b[0m\n\u001b[1;32m   1345\u001b[0m             \u001b[0;32mtry\u001b[0m\u001b[0;34m:\u001b[0m\u001b[0;34m\u001b[0m\u001b[0;34m\u001b[0m\u001b[0m\n\u001b[0;32m-> 1346\u001b[0;31m                 h.request(req.get_method(), req.selector, req.data, headers,\n\u001b[0m\u001b[1;32m   1347\u001b[0m                           encode_chunked=req.has_header('Transfer-encoding'))\n",
      "\u001b[0;32m/Library/Frameworks/Python.framework/Versions/3.9/lib/python3.9/http/client.py\u001b[0m in \u001b[0;36mrequest\u001b[0;34m(self, method, url, body, headers, encode_chunked)\u001b[0m\n\u001b[1;32m   1254\u001b[0m         \u001b[0;34m\"\"\"Send a complete request to the server.\"\"\"\u001b[0m\u001b[0;34m\u001b[0m\u001b[0;34m\u001b[0m\u001b[0m\n\u001b[0;32m-> 1255\u001b[0;31m         \u001b[0mself\u001b[0m\u001b[0;34m.\u001b[0m\u001b[0m_send_request\u001b[0m\u001b[0;34m(\u001b[0m\u001b[0mmethod\u001b[0m\u001b[0;34m,\u001b[0m \u001b[0murl\u001b[0m\u001b[0;34m,\u001b[0m \u001b[0mbody\u001b[0m\u001b[0;34m,\u001b[0m \u001b[0mheaders\u001b[0m\u001b[0;34m,\u001b[0m \u001b[0mencode_chunked\u001b[0m\u001b[0;34m)\u001b[0m\u001b[0;34m\u001b[0m\u001b[0;34m\u001b[0m\u001b[0m\n\u001b[0m\u001b[1;32m   1256\u001b[0m \u001b[0;34m\u001b[0m\u001b[0m\n",
      "\u001b[0;32m/Library/Frameworks/Python.framework/Versions/3.9/lib/python3.9/http/client.py\u001b[0m in \u001b[0;36m_send_request\u001b[0;34m(self, method, url, body, headers, encode_chunked)\u001b[0m\n\u001b[1;32m   1300\u001b[0m             \u001b[0mbody\u001b[0m \u001b[0;34m=\u001b[0m \u001b[0m_encode\u001b[0m\u001b[0;34m(\u001b[0m\u001b[0mbody\u001b[0m\u001b[0;34m,\u001b[0m \u001b[0;34m'body'\u001b[0m\u001b[0;34m)\u001b[0m\u001b[0;34m\u001b[0m\u001b[0;34m\u001b[0m\u001b[0m\n\u001b[0;32m-> 1301\u001b[0;31m         \u001b[0mself\u001b[0m\u001b[0;34m.\u001b[0m\u001b[0mendheaders\u001b[0m\u001b[0;34m(\u001b[0m\u001b[0mbody\u001b[0m\u001b[0;34m,\u001b[0m \u001b[0mencode_chunked\u001b[0m\u001b[0;34m=\u001b[0m\u001b[0mencode_chunked\u001b[0m\u001b[0;34m)\u001b[0m\u001b[0;34m\u001b[0m\u001b[0;34m\u001b[0m\u001b[0m\n\u001b[0m\u001b[1;32m   1302\u001b[0m \u001b[0;34m\u001b[0m\u001b[0m\n",
      "\u001b[0;32m/Library/Frameworks/Python.framework/Versions/3.9/lib/python3.9/http/client.py\u001b[0m in \u001b[0;36mendheaders\u001b[0;34m(self, message_body, encode_chunked)\u001b[0m\n\u001b[1;32m   1249\u001b[0m             \u001b[0;32mraise\u001b[0m \u001b[0mCannotSendHeader\u001b[0m\u001b[0;34m(\u001b[0m\u001b[0;34m)\u001b[0m\u001b[0;34m\u001b[0m\u001b[0;34m\u001b[0m\u001b[0m\n\u001b[0;32m-> 1250\u001b[0;31m         \u001b[0mself\u001b[0m\u001b[0;34m.\u001b[0m\u001b[0m_send_output\u001b[0m\u001b[0;34m(\u001b[0m\u001b[0mmessage_body\u001b[0m\u001b[0;34m,\u001b[0m \u001b[0mencode_chunked\u001b[0m\u001b[0;34m=\u001b[0m\u001b[0mencode_chunked\u001b[0m\u001b[0;34m)\u001b[0m\u001b[0;34m\u001b[0m\u001b[0;34m\u001b[0m\u001b[0m\n\u001b[0m\u001b[1;32m   1251\u001b[0m \u001b[0;34m\u001b[0m\u001b[0m\n",
      "\u001b[0;32m/Library/Frameworks/Python.framework/Versions/3.9/lib/python3.9/http/client.py\u001b[0m in \u001b[0;36m_send_output\u001b[0;34m(self, message_body, encode_chunked)\u001b[0m\n\u001b[1;32m   1009\u001b[0m         \u001b[0;32mdel\u001b[0m \u001b[0mself\u001b[0m\u001b[0;34m.\u001b[0m\u001b[0m_buffer\u001b[0m\u001b[0;34m[\u001b[0m\u001b[0;34m:\u001b[0m\u001b[0;34m]\u001b[0m\u001b[0;34m\u001b[0m\u001b[0;34m\u001b[0m\u001b[0m\n\u001b[0;32m-> 1010\u001b[0;31m         \u001b[0mself\u001b[0m\u001b[0;34m.\u001b[0m\u001b[0msend\u001b[0m\u001b[0;34m(\u001b[0m\u001b[0mmsg\u001b[0m\u001b[0;34m)\u001b[0m\u001b[0;34m\u001b[0m\u001b[0;34m\u001b[0m\u001b[0m\n\u001b[0m\u001b[1;32m   1011\u001b[0m \u001b[0;34m\u001b[0m\u001b[0m\n",
      "\u001b[0;32m/Library/Frameworks/Python.framework/Versions/3.9/lib/python3.9/http/client.py\u001b[0m in \u001b[0;36msend\u001b[0;34m(self, data)\u001b[0m\n\u001b[1;32m    949\u001b[0m             \u001b[0;32mif\u001b[0m \u001b[0mself\u001b[0m\u001b[0;34m.\u001b[0m\u001b[0mauto_open\u001b[0m\u001b[0;34m:\u001b[0m\u001b[0;34m\u001b[0m\u001b[0;34m\u001b[0m\u001b[0m\n\u001b[0;32m--> 950\u001b[0;31m                 \u001b[0mself\u001b[0m\u001b[0;34m.\u001b[0m\u001b[0mconnect\u001b[0m\u001b[0;34m(\u001b[0m\u001b[0;34m)\u001b[0m\u001b[0;34m\u001b[0m\u001b[0;34m\u001b[0m\u001b[0m\n\u001b[0m\u001b[1;32m    951\u001b[0m             \u001b[0;32melse\u001b[0m\u001b[0;34m:\u001b[0m\u001b[0;34m\u001b[0m\u001b[0;34m\u001b[0m\u001b[0m\n",
      "\u001b[0;32m/Library/Frameworks/Python.framework/Versions/3.9/lib/python3.9/http/client.py\u001b[0m in \u001b[0;36mconnect\u001b[0;34m(self)\u001b[0m\n\u001b[1;32m   1423\u001b[0m \u001b[0;34m\u001b[0m\u001b[0m\n\u001b[0;32m-> 1424\u001b[0;31m             self.sock = self._context.wrap_socket(self.sock,\n\u001b[0m\u001b[1;32m   1425\u001b[0m                                                   server_hostname=server_hostname)\n",
      "\u001b[0;32m/Library/Frameworks/Python.framework/Versions/3.9/lib/python3.9/ssl.py\u001b[0m in \u001b[0;36mwrap_socket\u001b[0;34m(self, sock, server_side, do_handshake_on_connect, suppress_ragged_eofs, server_hostname, session)\u001b[0m\n\u001b[1;32m    499\u001b[0m         \u001b[0;31m# ctx._wrap_socket()\u001b[0m\u001b[0;34m\u001b[0m\u001b[0;34m\u001b[0m\u001b[0;34m\u001b[0m\u001b[0m\n\u001b[0;32m--> 500\u001b[0;31m         return self.sslsocket_class._create(\n\u001b[0m\u001b[1;32m    501\u001b[0m             \u001b[0msock\u001b[0m\u001b[0;34m=\u001b[0m\u001b[0msock\u001b[0m\u001b[0;34m,\u001b[0m\u001b[0;34m\u001b[0m\u001b[0;34m\u001b[0m\u001b[0m\n",
      "\u001b[0;32m/Library/Frameworks/Python.framework/Versions/3.9/lib/python3.9/ssl.py\u001b[0m in \u001b[0;36m_create\u001b[0;34m(cls, sock, server_side, do_handshake_on_connect, suppress_ragged_eofs, server_hostname, context, session)\u001b[0m\n\u001b[1;32m   1039\u001b[0m                         \u001b[0;32mraise\u001b[0m \u001b[0mValueError\u001b[0m\u001b[0;34m(\u001b[0m\u001b[0;34m\"do_handshake_on_connect should not be specified for non-blocking sockets\"\u001b[0m\u001b[0;34m)\u001b[0m\u001b[0;34m\u001b[0m\u001b[0;34m\u001b[0m\u001b[0m\n\u001b[0;32m-> 1040\u001b[0;31m                     \u001b[0mself\u001b[0m\u001b[0;34m.\u001b[0m\u001b[0mdo_handshake\u001b[0m\u001b[0;34m(\u001b[0m\u001b[0;34m)\u001b[0m\u001b[0;34m\u001b[0m\u001b[0;34m\u001b[0m\u001b[0m\n\u001b[0m\u001b[1;32m   1041\u001b[0m             \u001b[0;32mexcept\u001b[0m \u001b[0;34m(\u001b[0m\u001b[0mOSError\u001b[0m\u001b[0;34m,\u001b[0m \u001b[0mValueError\u001b[0m\u001b[0;34m)\u001b[0m\u001b[0;34m:\u001b[0m\u001b[0;34m\u001b[0m\u001b[0;34m\u001b[0m\u001b[0m\n",
      "\u001b[0;32m/Library/Frameworks/Python.framework/Versions/3.9/lib/python3.9/ssl.py\u001b[0m in \u001b[0;36mdo_handshake\u001b[0;34m(self, block)\u001b[0m\n\u001b[1;32m   1308\u001b[0m                 \u001b[0mself\u001b[0m\u001b[0;34m.\u001b[0m\u001b[0msettimeout\u001b[0m\u001b[0;34m(\u001b[0m\u001b[0;32mNone\u001b[0m\u001b[0;34m)\u001b[0m\u001b[0;34m\u001b[0m\u001b[0;34m\u001b[0m\u001b[0m\n\u001b[0;32m-> 1309\u001b[0;31m             \u001b[0mself\u001b[0m\u001b[0;34m.\u001b[0m\u001b[0m_sslobj\u001b[0m\u001b[0;34m.\u001b[0m\u001b[0mdo_handshake\u001b[0m\u001b[0;34m(\u001b[0m\u001b[0;34m)\u001b[0m\u001b[0;34m\u001b[0m\u001b[0;34m\u001b[0m\u001b[0m\n\u001b[0m\u001b[1;32m   1310\u001b[0m         \u001b[0;32mfinally\u001b[0m\u001b[0;34m:\u001b[0m\u001b[0;34m\u001b[0m\u001b[0;34m\u001b[0m\u001b[0m\n",
      "\u001b[0;31mSSLCertVerificationError\u001b[0m: [SSL: CERTIFICATE_VERIFY_FAILED] certificate verify failed: unable to get local issuer certificate (_ssl.c:1123)",
      "\nDuring handling of the above exception, another exception occurred:\n",
      "\u001b[0;31mURLError\u001b[0m                                  Traceback (most recent call last)",
      "\u001b[0;32m/var/folders/dz/brzyldnd7cq32fnrw7lv3dpm0000gn/T/ipykernel_55789/1213172827.py\u001b[0m in \u001b[0;36m<module>\u001b[0;34m\u001b[0m\n\u001b[1;32m     25\u001b[0m \u001b[0;34m\u001b[0m\u001b[0m\n\u001b[1;32m     26\u001b[0m     \u001b[0;31m# Temp Df\u001b[0m\u001b[0;34m\u001b[0m\u001b[0;34m\u001b[0m\u001b[0;34m\u001b[0m\u001b[0m\n\u001b[0;32m---> 27\u001b[0;31m     \u001b[0mtempDf\u001b[0m \u001b[0;34m=\u001b[0m \u001b[0mpd\u001b[0m\u001b[0;34m.\u001b[0m\u001b[0mread_html\u001b[0m\u001b[0;34m(\u001b[0m\u001b[0murlString\u001b[0m\u001b[0;34m)\u001b[0m\u001b[0;34m\u001b[0m\u001b[0;34m\u001b[0m\u001b[0m\n\u001b[0m\u001b[1;32m     28\u001b[0m \u001b[0;34m\u001b[0m\u001b[0m\n\u001b[1;32m     29\u001b[0m     \u001b[0;31m# Add the string to the list\u001b[0m\u001b[0;34m\u001b[0m\u001b[0;34m\u001b[0m\u001b[0;34m\u001b[0m\u001b[0m\n",
      "\u001b[0;32m/Library/Frameworks/Python.framework/Versions/3.9/lib/python3.9/site-packages/pandas/util/_decorators.py\u001b[0m in \u001b[0;36mwrapper\u001b[0;34m(*args, **kwargs)\u001b[0m\n\u001b[1;32m    309\u001b[0m                     \u001b[0mstacklevel\u001b[0m\u001b[0;34m=\u001b[0m\u001b[0mstacklevel\u001b[0m\u001b[0;34m,\u001b[0m\u001b[0;34m\u001b[0m\u001b[0;34m\u001b[0m\u001b[0m\n\u001b[1;32m    310\u001b[0m                 )\n\u001b[0;32m--> 311\u001b[0;31m             \u001b[0;32mreturn\u001b[0m \u001b[0mfunc\u001b[0m\u001b[0;34m(\u001b[0m\u001b[0;34m*\u001b[0m\u001b[0margs\u001b[0m\u001b[0;34m,\u001b[0m \u001b[0;34m**\u001b[0m\u001b[0mkwargs\u001b[0m\u001b[0;34m)\u001b[0m\u001b[0;34m\u001b[0m\u001b[0;34m\u001b[0m\u001b[0m\n\u001b[0m\u001b[1;32m    312\u001b[0m \u001b[0;34m\u001b[0m\u001b[0m\n\u001b[1;32m    313\u001b[0m         \u001b[0;32mreturn\u001b[0m \u001b[0mwrapper\u001b[0m\u001b[0;34m\u001b[0m\u001b[0;34m\u001b[0m\u001b[0m\n",
      "\u001b[0;32m/Library/Frameworks/Python.framework/Versions/3.9/lib/python3.9/site-packages/pandas/io/html.py\u001b[0m in \u001b[0;36mread_html\u001b[0;34m(io, match, flavor, header, index_col, skiprows, attrs, parse_dates, thousands, encoding, decimal, converters, na_values, keep_default_na, displayed_only)\u001b[0m\n\u001b[1;32m   1096\u001b[0m     \u001b[0mio\u001b[0m \u001b[0;34m=\u001b[0m \u001b[0mstringify_path\u001b[0m\u001b[0;34m(\u001b[0m\u001b[0mio\u001b[0m\u001b[0;34m)\u001b[0m\u001b[0;34m\u001b[0m\u001b[0;34m\u001b[0m\u001b[0m\n\u001b[1;32m   1097\u001b[0m \u001b[0;34m\u001b[0m\u001b[0m\n\u001b[0;32m-> 1098\u001b[0;31m     return _parse(\n\u001b[0m\u001b[1;32m   1099\u001b[0m         \u001b[0mflavor\u001b[0m\u001b[0;34m=\u001b[0m\u001b[0mflavor\u001b[0m\u001b[0;34m,\u001b[0m\u001b[0;34m\u001b[0m\u001b[0;34m\u001b[0m\u001b[0m\n\u001b[1;32m   1100\u001b[0m         \u001b[0mio\u001b[0m\u001b[0;34m=\u001b[0m\u001b[0mio\u001b[0m\u001b[0;34m,\u001b[0m\u001b[0;34m\u001b[0m\u001b[0;34m\u001b[0m\u001b[0m\n",
      "\u001b[0;32m/Library/Frameworks/Python.framework/Versions/3.9/lib/python3.9/site-packages/pandas/io/html.py\u001b[0m in \u001b[0;36m_parse\u001b[0;34m(flavor, io, match, attrs, encoding, displayed_only, **kwargs)\u001b[0m\n\u001b[1;32m    904\u001b[0m \u001b[0;34m\u001b[0m\u001b[0m\n\u001b[1;32m    905\u001b[0m         \u001b[0;32mtry\u001b[0m\u001b[0;34m:\u001b[0m\u001b[0;34m\u001b[0m\u001b[0;34m\u001b[0m\u001b[0m\n\u001b[0;32m--> 906\u001b[0;31m             \u001b[0mtables\u001b[0m \u001b[0;34m=\u001b[0m \u001b[0mp\u001b[0m\u001b[0;34m.\u001b[0m\u001b[0mparse_tables\u001b[0m\u001b[0;34m(\u001b[0m\u001b[0;34m)\u001b[0m\u001b[0;34m\u001b[0m\u001b[0;34m\u001b[0m\u001b[0m\n\u001b[0m\u001b[1;32m    907\u001b[0m         \u001b[0;32mexcept\u001b[0m \u001b[0mValueError\u001b[0m \u001b[0;32mas\u001b[0m \u001b[0mcaught\u001b[0m\u001b[0;34m:\u001b[0m\u001b[0;34m\u001b[0m\u001b[0;34m\u001b[0m\u001b[0m\n\u001b[1;32m    908\u001b[0m             \u001b[0;31m# if `io` is an io-like object, check if it's seekable\u001b[0m\u001b[0;34m\u001b[0m\u001b[0;34m\u001b[0m\u001b[0;34m\u001b[0m\u001b[0m\n",
      "\u001b[0;32m/Library/Frameworks/Python.framework/Versions/3.9/lib/python3.9/site-packages/pandas/io/html.py\u001b[0m in \u001b[0;36mparse_tables\u001b[0;34m(self)\u001b[0m\n\u001b[1;32m    220\u001b[0m         \u001b[0mlist\u001b[0m \u001b[0mof\u001b[0m \u001b[0mparsed\u001b[0m \u001b[0;34m(\u001b[0m\u001b[0mheader\u001b[0m\u001b[0;34m,\u001b[0m \u001b[0mbody\u001b[0m\u001b[0;34m,\u001b[0m \u001b[0mfooter\u001b[0m\u001b[0;34m)\u001b[0m \u001b[0mtuples\u001b[0m \u001b[0;32mfrom\u001b[0m \u001b[0mtables\u001b[0m\u001b[0;34m.\u001b[0m\u001b[0;34m\u001b[0m\u001b[0;34m\u001b[0m\u001b[0m\n\u001b[1;32m    221\u001b[0m         \"\"\"\n\u001b[0;32m--> 222\u001b[0;31m         \u001b[0mtables\u001b[0m \u001b[0;34m=\u001b[0m \u001b[0mself\u001b[0m\u001b[0;34m.\u001b[0m\u001b[0m_parse_tables\u001b[0m\u001b[0;34m(\u001b[0m\u001b[0mself\u001b[0m\u001b[0;34m.\u001b[0m\u001b[0m_build_doc\u001b[0m\u001b[0;34m(\u001b[0m\u001b[0;34m)\u001b[0m\u001b[0;34m,\u001b[0m \u001b[0mself\u001b[0m\u001b[0;34m.\u001b[0m\u001b[0mmatch\u001b[0m\u001b[0;34m,\u001b[0m \u001b[0mself\u001b[0m\u001b[0;34m.\u001b[0m\u001b[0mattrs\u001b[0m\u001b[0;34m)\u001b[0m\u001b[0;34m\u001b[0m\u001b[0;34m\u001b[0m\u001b[0m\n\u001b[0m\u001b[1;32m    223\u001b[0m         \u001b[0;32mreturn\u001b[0m \u001b[0;34m(\u001b[0m\u001b[0mself\u001b[0m\u001b[0;34m.\u001b[0m\u001b[0m_parse_thead_tbody_tfoot\u001b[0m\u001b[0;34m(\u001b[0m\u001b[0mtable\u001b[0m\u001b[0;34m)\u001b[0m \u001b[0;32mfor\u001b[0m \u001b[0mtable\u001b[0m \u001b[0;32min\u001b[0m \u001b[0mtables\u001b[0m\u001b[0;34m)\u001b[0m\u001b[0;34m\u001b[0m\u001b[0;34m\u001b[0m\u001b[0m\n\u001b[1;32m    224\u001b[0m \u001b[0;34m\u001b[0m\u001b[0m\n",
      "\u001b[0;32m/Library/Frameworks/Python.framework/Versions/3.9/lib/python3.9/site-packages/pandas/io/html.py\u001b[0m in \u001b[0;36m_build_doc\u001b[0;34m(self)\u001b[0m\n\u001b[1;32m    743\u001b[0m                     \u001b[0;32mpass\u001b[0m\u001b[0;34m\u001b[0m\u001b[0;34m\u001b[0m\u001b[0m\n\u001b[1;32m    744\u001b[0m             \u001b[0;32melse\u001b[0m\u001b[0;34m:\u001b[0m\u001b[0;34m\u001b[0m\u001b[0;34m\u001b[0m\u001b[0m\n\u001b[0;32m--> 745\u001b[0;31m                 \u001b[0;32mraise\u001b[0m \u001b[0me\u001b[0m\u001b[0;34m\u001b[0m\u001b[0;34m\u001b[0m\u001b[0m\n\u001b[0m\u001b[1;32m    746\u001b[0m         \u001b[0;32melse\u001b[0m\u001b[0;34m:\u001b[0m\u001b[0;34m\u001b[0m\u001b[0;34m\u001b[0m\u001b[0m\n\u001b[1;32m    747\u001b[0m             \u001b[0;32mif\u001b[0m \u001b[0;32mnot\u001b[0m \u001b[0mhasattr\u001b[0m\u001b[0;34m(\u001b[0m\u001b[0mr\u001b[0m\u001b[0;34m,\u001b[0m \u001b[0;34m\"text_content\"\u001b[0m\u001b[0;34m)\u001b[0m\u001b[0;34m:\u001b[0m\u001b[0;34m\u001b[0m\u001b[0;34m\u001b[0m\u001b[0m\n",
      "\u001b[0;32m/Library/Frameworks/Python.framework/Versions/3.9/lib/python3.9/site-packages/pandas/io/html.py\u001b[0m in \u001b[0;36m_build_doc\u001b[0;34m(self)\u001b[0m\n\u001b[1;32m    724\u001b[0m         \u001b[0;32mtry\u001b[0m\u001b[0;34m:\u001b[0m\u001b[0;34m\u001b[0m\u001b[0;34m\u001b[0m\u001b[0m\n\u001b[1;32m    725\u001b[0m             \u001b[0;32mif\u001b[0m \u001b[0mis_url\u001b[0m\u001b[0;34m(\u001b[0m\u001b[0mself\u001b[0m\u001b[0;34m.\u001b[0m\u001b[0mio\u001b[0m\u001b[0;34m)\u001b[0m\u001b[0;34m:\u001b[0m\u001b[0;34m\u001b[0m\u001b[0;34m\u001b[0m\u001b[0m\n\u001b[0;32m--> 726\u001b[0;31m                 \u001b[0;32mwith\u001b[0m \u001b[0murlopen\u001b[0m\u001b[0;34m(\u001b[0m\u001b[0mself\u001b[0m\u001b[0;34m.\u001b[0m\u001b[0mio\u001b[0m\u001b[0;34m)\u001b[0m \u001b[0;32mas\u001b[0m \u001b[0mf\u001b[0m\u001b[0;34m:\u001b[0m\u001b[0;34m\u001b[0m\u001b[0;34m\u001b[0m\u001b[0m\n\u001b[0m\u001b[1;32m    727\u001b[0m                     \u001b[0mr\u001b[0m \u001b[0;34m=\u001b[0m \u001b[0mparse\u001b[0m\u001b[0;34m(\u001b[0m\u001b[0mf\u001b[0m\u001b[0;34m,\u001b[0m \u001b[0mparser\u001b[0m\u001b[0;34m=\u001b[0m\u001b[0mparser\u001b[0m\u001b[0;34m)\u001b[0m\u001b[0;34m\u001b[0m\u001b[0;34m\u001b[0m\u001b[0m\n\u001b[1;32m    728\u001b[0m             \u001b[0;32melse\u001b[0m\u001b[0;34m:\u001b[0m\u001b[0;34m\u001b[0m\u001b[0;34m\u001b[0m\u001b[0m\n",
      "\u001b[0;32m/Library/Frameworks/Python.framework/Versions/3.9/lib/python3.9/site-packages/pandas/io/common.py\u001b[0m in \u001b[0;36murlopen\u001b[0;34m(*args, **kwargs)\u001b[0m\n\u001b[1;32m    210\u001b[0m     \u001b[0;32mimport\u001b[0m \u001b[0murllib\u001b[0m\u001b[0;34m.\u001b[0m\u001b[0mrequest\u001b[0m\u001b[0;34m\u001b[0m\u001b[0;34m\u001b[0m\u001b[0m\n\u001b[1;32m    211\u001b[0m \u001b[0;34m\u001b[0m\u001b[0m\n\u001b[0;32m--> 212\u001b[0;31m     \u001b[0;32mreturn\u001b[0m \u001b[0murllib\u001b[0m\u001b[0;34m.\u001b[0m\u001b[0mrequest\u001b[0m\u001b[0;34m.\u001b[0m\u001b[0murlopen\u001b[0m\u001b[0;34m(\u001b[0m\u001b[0;34m*\u001b[0m\u001b[0margs\u001b[0m\u001b[0;34m,\u001b[0m \u001b[0;34m**\u001b[0m\u001b[0mkwargs\u001b[0m\u001b[0;34m)\u001b[0m\u001b[0;34m\u001b[0m\u001b[0;34m\u001b[0m\u001b[0m\n\u001b[0m\u001b[1;32m    213\u001b[0m \u001b[0;34m\u001b[0m\u001b[0m\n\u001b[1;32m    214\u001b[0m \u001b[0;34m\u001b[0m\u001b[0m\n",
      "\u001b[0;32m/Library/Frameworks/Python.framework/Versions/3.9/lib/python3.9/urllib/request.py\u001b[0m in \u001b[0;36murlopen\u001b[0;34m(url, data, timeout, cafile, capath, cadefault, context)\u001b[0m\n\u001b[1;32m    212\u001b[0m     \u001b[0;32melse\u001b[0m\u001b[0;34m:\u001b[0m\u001b[0;34m\u001b[0m\u001b[0;34m\u001b[0m\u001b[0m\n\u001b[1;32m    213\u001b[0m         \u001b[0mopener\u001b[0m \u001b[0;34m=\u001b[0m \u001b[0m_opener\u001b[0m\u001b[0;34m\u001b[0m\u001b[0;34m\u001b[0m\u001b[0m\n\u001b[0;32m--> 214\u001b[0;31m     \u001b[0;32mreturn\u001b[0m \u001b[0mopener\u001b[0m\u001b[0;34m.\u001b[0m\u001b[0mopen\u001b[0m\u001b[0;34m(\u001b[0m\u001b[0murl\u001b[0m\u001b[0;34m,\u001b[0m \u001b[0mdata\u001b[0m\u001b[0;34m,\u001b[0m \u001b[0mtimeout\u001b[0m\u001b[0;34m)\u001b[0m\u001b[0;34m\u001b[0m\u001b[0;34m\u001b[0m\u001b[0m\n\u001b[0m\u001b[1;32m    215\u001b[0m \u001b[0;34m\u001b[0m\u001b[0m\n\u001b[1;32m    216\u001b[0m \u001b[0;32mdef\u001b[0m \u001b[0minstall_opener\u001b[0m\u001b[0;34m(\u001b[0m\u001b[0mopener\u001b[0m\u001b[0;34m)\u001b[0m\u001b[0;34m:\u001b[0m\u001b[0;34m\u001b[0m\u001b[0;34m\u001b[0m\u001b[0m\n",
      "\u001b[0;32m/Library/Frameworks/Python.framework/Versions/3.9/lib/python3.9/urllib/request.py\u001b[0m in \u001b[0;36mopen\u001b[0;34m(self, fullurl, data, timeout)\u001b[0m\n\u001b[1;32m    515\u001b[0m \u001b[0;34m\u001b[0m\u001b[0m\n\u001b[1;32m    516\u001b[0m         \u001b[0msys\u001b[0m\u001b[0;34m.\u001b[0m\u001b[0maudit\u001b[0m\u001b[0;34m(\u001b[0m\u001b[0;34m'urllib.Request'\u001b[0m\u001b[0;34m,\u001b[0m \u001b[0mreq\u001b[0m\u001b[0;34m.\u001b[0m\u001b[0mfull_url\u001b[0m\u001b[0;34m,\u001b[0m \u001b[0mreq\u001b[0m\u001b[0;34m.\u001b[0m\u001b[0mdata\u001b[0m\u001b[0;34m,\u001b[0m \u001b[0mreq\u001b[0m\u001b[0;34m.\u001b[0m\u001b[0mheaders\u001b[0m\u001b[0;34m,\u001b[0m \u001b[0mreq\u001b[0m\u001b[0;34m.\u001b[0m\u001b[0mget_method\u001b[0m\u001b[0;34m(\u001b[0m\u001b[0;34m)\u001b[0m\u001b[0;34m)\u001b[0m\u001b[0;34m\u001b[0m\u001b[0;34m\u001b[0m\u001b[0m\n\u001b[0;32m--> 517\u001b[0;31m         \u001b[0mresponse\u001b[0m \u001b[0;34m=\u001b[0m \u001b[0mself\u001b[0m\u001b[0;34m.\u001b[0m\u001b[0m_open\u001b[0m\u001b[0;34m(\u001b[0m\u001b[0mreq\u001b[0m\u001b[0;34m,\u001b[0m \u001b[0mdata\u001b[0m\u001b[0;34m)\u001b[0m\u001b[0;34m\u001b[0m\u001b[0;34m\u001b[0m\u001b[0m\n\u001b[0m\u001b[1;32m    518\u001b[0m \u001b[0;34m\u001b[0m\u001b[0m\n\u001b[1;32m    519\u001b[0m         \u001b[0;31m# post-process response\u001b[0m\u001b[0;34m\u001b[0m\u001b[0;34m\u001b[0m\u001b[0;34m\u001b[0m\u001b[0m\n",
      "\u001b[0;32m/Library/Frameworks/Python.framework/Versions/3.9/lib/python3.9/urllib/request.py\u001b[0m in \u001b[0;36m_open\u001b[0;34m(self, req, data)\u001b[0m\n\u001b[1;32m    532\u001b[0m \u001b[0;34m\u001b[0m\u001b[0m\n\u001b[1;32m    533\u001b[0m         \u001b[0mprotocol\u001b[0m \u001b[0;34m=\u001b[0m \u001b[0mreq\u001b[0m\u001b[0;34m.\u001b[0m\u001b[0mtype\u001b[0m\u001b[0;34m\u001b[0m\u001b[0;34m\u001b[0m\u001b[0m\n\u001b[0;32m--> 534\u001b[0;31m         result = self._call_chain(self.handle_open, protocol, protocol +\n\u001b[0m\u001b[1;32m    535\u001b[0m                                   '_open', req)\n\u001b[1;32m    536\u001b[0m         \u001b[0;32mif\u001b[0m \u001b[0mresult\u001b[0m\u001b[0;34m:\u001b[0m\u001b[0;34m\u001b[0m\u001b[0;34m\u001b[0m\u001b[0m\n",
      "\u001b[0;32m/Library/Frameworks/Python.framework/Versions/3.9/lib/python3.9/urllib/request.py\u001b[0m in \u001b[0;36m_call_chain\u001b[0;34m(self, chain, kind, meth_name, *args)\u001b[0m\n\u001b[1;32m    492\u001b[0m         \u001b[0;32mfor\u001b[0m \u001b[0mhandler\u001b[0m \u001b[0;32min\u001b[0m \u001b[0mhandlers\u001b[0m\u001b[0;34m:\u001b[0m\u001b[0;34m\u001b[0m\u001b[0;34m\u001b[0m\u001b[0m\n\u001b[1;32m    493\u001b[0m             \u001b[0mfunc\u001b[0m \u001b[0;34m=\u001b[0m \u001b[0mgetattr\u001b[0m\u001b[0;34m(\u001b[0m\u001b[0mhandler\u001b[0m\u001b[0;34m,\u001b[0m \u001b[0mmeth_name\u001b[0m\u001b[0;34m)\u001b[0m\u001b[0;34m\u001b[0m\u001b[0;34m\u001b[0m\u001b[0m\n\u001b[0;32m--> 494\u001b[0;31m             \u001b[0mresult\u001b[0m \u001b[0;34m=\u001b[0m \u001b[0mfunc\u001b[0m\u001b[0;34m(\u001b[0m\u001b[0;34m*\u001b[0m\u001b[0margs\u001b[0m\u001b[0;34m)\u001b[0m\u001b[0;34m\u001b[0m\u001b[0;34m\u001b[0m\u001b[0m\n\u001b[0m\u001b[1;32m    495\u001b[0m             \u001b[0;32mif\u001b[0m \u001b[0mresult\u001b[0m \u001b[0;32mis\u001b[0m \u001b[0;32mnot\u001b[0m \u001b[0;32mNone\u001b[0m\u001b[0;34m:\u001b[0m\u001b[0;34m\u001b[0m\u001b[0;34m\u001b[0m\u001b[0m\n\u001b[1;32m    496\u001b[0m                 \u001b[0;32mreturn\u001b[0m \u001b[0mresult\u001b[0m\u001b[0;34m\u001b[0m\u001b[0;34m\u001b[0m\u001b[0m\n",
      "\u001b[0;32m/Library/Frameworks/Python.framework/Versions/3.9/lib/python3.9/urllib/request.py\u001b[0m in \u001b[0;36mhttps_open\u001b[0;34m(self, req)\u001b[0m\n\u001b[1;32m   1387\u001b[0m \u001b[0;34m\u001b[0m\u001b[0m\n\u001b[1;32m   1388\u001b[0m         \u001b[0;32mdef\u001b[0m \u001b[0mhttps_open\u001b[0m\u001b[0;34m(\u001b[0m\u001b[0mself\u001b[0m\u001b[0;34m,\u001b[0m \u001b[0mreq\u001b[0m\u001b[0;34m)\u001b[0m\u001b[0;34m:\u001b[0m\u001b[0;34m\u001b[0m\u001b[0;34m\u001b[0m\u001b[0m\n\u001b[0;32m-> 1389\u001b[0;31m             return self.do_open(http.client.HTTPSConnection, req,\n\u001b[0m\u001b[1;32m   1390\u001b[0m                 context=self._context, check_hostname=self._check_hostname)\n\u001b[1;32m   1391\u001b[0m \u001b[0;34m\u001b[0m\u001b[0m\n",
      "\u001b[0;32m/Library/Frameworks/Python.framework/Versions/3.9/lib/python3.9/urllib/request.py\u001b[0m in \u001b[0;36mdo_open\u001b[0;34m(self, http_class, req, **http_conn_args)\u001b[0m\n\u001b[1;32m   1347\u001b[0m                           encode_chunked=req.has_header('Transfer-encoding'))\n\u001b[1;32m   1348\u001b[0m             \u001b[0;32mexcept\u001b[0m \u001b[0mOSError\u001b[0m \u001b[0;32mas\u001b[0m \u001b[0merr\u001b[0m\u001b[0;34m:\u001b[0m \u001b[0;31m# timeout error\u001b[0m\u001b[0;34m\u001b[0m\u001b[0;34m\u001b[0m\u001b[0m\n\u001b[0;32m-> 1349\u001b[0;31m                 \u001b[0;32mraise\u001b[0m \u001b[0mURLError\u001b[0m\u001b[0;34m(\u001b[0m\u001b[0merr\u001b[0m\u001b[0;34m)\u001b[0m\u001b[0;34m\u001b[0m\u001b[0;34m\u001b[0m\u001b[0m\n\u001b[0m\u001b[1;32m   1350\u001b[0m             \u001b[0mr\u001b[0m \u001b[0;34m=\u001b[0m \u001b[0mh\u001b[0m\u001b[0;34m.\u001b[0m\u001b[0mgetresponse\u001b[0m\u001b[0;34m(\u001b[0m\u001b[0;34m)\u001b[0m\u001b[0;34m\u001b[0m\u001b[0;34m\u001b[0m\u001b[0m\n\u001b[1;32m   1351\u001b[0m         \u001b[0;32mexcept\u001b[0m\u001b[0;34m:\u001b[0m\u001b[0;34m\u001b[0m\u001b[0;34m\u001b[0m\u001b[0m\n",
      "\u001b[0;31mURLError\u001b[0m: <urlopen error [SSL: CERTIFICATE_VERIFY_FAILED] certificate verify failed: unable to get local issuer certificate (_ssl.c:1123)>"
     ]
    }
   ],
   "source": [
    "# 1. Compile a dataset of all the NBA player available at these websites. \n",
    "# Once you've collected all the data, you should have a dataset with 4897 row and 8 columns.\n",
    "\n",
    "# Initialize the first letter in the alphabet \n",
    "char = 'a'\n",
    "basketballDf = []\n",
    "\n",
    "# Loop through the entire alphabet\n",
    "for i in range(1, 26):\n",
    "    \n",
    "    # No x last names\n",
    "    if char == \"x\":\n",
    "        \n",
    "        # Change char to a number so we can increment it\n",
    "        val = ord(char[0])\n",
    "    \n",
    "        # Increment\n",
    "        val += 1\n",
    "    \n",
    "        # Then change it back into a character\n",
    "        char = chr(val)\n",
    "    \n",
    "    # The string \n",
    "    urlString = \"https://www.basketball-reference.com/players/\" + char + \"/\" \n",
    "    \n",
    "    # Temp Df\n",
    "    tempDf = pd.read_html(urlString)\n",
    "    \n",
    "    # Add the string to the list\n",
    "    basketballDf.append(tempDf)\n",
    "    \n",
    "    # Change char to a number so we can increment it\n",
    "    val = ord(char[0])\n",
    "    \n",
    "    # Increment\n",
    "    val += 1\n",
    "    \n",
    "    # Then change it back into a character\n",
    "    char = chr(val)"
   ]
  },
  {
   "cell_type": "code",
   "execution_count": 80,
   "id": "e97b5b12",
   "metadata": {},
   "outputs": [],
   "source": [
    "# We need to convert our list to 2 dimensional\n",
    "\n",
    "# Create a temporary list\n",
    "Output = []\n",
    "\n",
    "# Loop through the basketball dataframe\n",
    "for temp in basketballDf:\n",
    "    \n",
    "    # For every element in temp\n",
    "    for elem in temp:\n",
    "        \n",
    "        # Just append the element\n",
    "        Output.append(elem)\n",
    "\n",
    "# Create a final list\n",
    "finalList = []\n",
    "\n",
    "# Loop through all of the tables\n",
    "for value in range(25):\n",
    "\n",
    "    # Append it\n",
    "    finalList.append(pd.DataFrame(Output[value]))"
   ]
  },
  {
   "cell_type": "code",
   "execution_count": 83,
   "id": "36fb7e9a",
   "metadata": {},
   "outputs": [],
   "source": [
    "# Merge the list of tables together\n",
    "merged = pd.concat(finalList)\n",
    "\n",
    "# Turn into a dataframe\n",
    "finalBall = pd.DataFrame(merged)\n",
    "\n",
    "# Check it out\n",
    "finalBall.head()\n",
    "\n",
    "# Reset the index\n",
    "finalBall = finalBall.reset_index()"
   ]
  },
  {
   "cell_type": "code",
   "execution_count": 84,
   "id": "b37820f2",
   "metadata": {},
   "outputs": [
    {
     "name": "stdout",
     "output_type": "stream",
     "text": [
      "   index                Player  From    To  Pos    Ht     Wt  \\\n",
      "0      0        Alaa Abdelnaby  1991  1995  F-C  6-10  240.0   \n",
      "1      1       Zaid Abdul-Aziz  1969  1978  C-F   6-9  235.0   \n",
      "2      2  Kareem Abdul-Jabbar*  1970  1989    C   7-2  225.0   \n",
      "3      3    Mahmoud Abdul-Rauf  1991  2001    G   6-1  162.0   \n",
      "4      4     Tariq Abdul-Wahad  1998  2003    F   6-6  223.0   \n",
      "\n",
      "         Birth Date                  Colleges  \n",
      "0     June 24, 1968                      Duke  \n",
      "1     April 7, 1946                Iowa State  \n",
      "2    April 16, 1947                      UCLA  \n",
      "3     March 9, 1969                       LSU  \n",
      "4  November 3, 1974  Michigan, San Jose State  \n"
     ]
    }
   ],
   "source": [
    "# ANSWER: Here is our final dataset\n",
    "print(finalBall.head())"
   ]
  },
  {
   "cell_type": "code",
   "execution_count": 85,
   "id": "76f662a7",
   "metadata": {},
   "outputs": [],
   "source": [
    "# 2. Cast \"From\" \"To\" and \"Wt\" to numeric Data\n",
    "finalBall[\"To\"] = pd.to_numeric(finalBall[\"To\"])\n",
    "finalBall[\"From\"] = pd.to_numeric(finalBall[\"From\"])\n",
    "finalBall[\"Wt\"] = pd.to_numeric(finalBall[\"Wt\"])"
   ]
  },
  {
   "cell_type": "code",
   "execution_count": 86,
   "id": "8877d345",
   "metadata": {},
   "outputs": [],
   "source": [
    "# 2a. years_played = number of years played (to - from + 1)\n",
    "\n",
    "# Create the years played column\n",
    "finalBall['years_played'] = \"\"\n",
    "\n",
    "# Convert it to a numeric\n",
    "finalBall['years_played'] = pd.to_numeric(finalBall['years_played'])"
   ]
  },
  {
   "cell_type": "code",
   "execution_count": 87,
   "id": "17e521ba",
   "metadata": {},
   "outputs": [
    {
     "name": "stderr",
     "output_type": "stream",
     "text": [
      "<ipython-input-87-429075aa5dc7>:8: SettingWithCopyWarning:\n",
      "\n",
      "\n",
      "A value is trying to be set on a copy of a slice from a DataFrame\n",
      "\n",
      "See the caveats in the documentation: https://pandas.pydata.org/pandas-docs/stable/user_guide/indexing.html#returning-a-view-versus-a-copy\n",
      "\n"
     ]
    }
   ],
   "source": [
    "# Loop through the entire dataset\n",
    "for i in range(4897):\n",
    "    \n",
    "    # Calculate the number of years played\n",
    "    num = (finalBall['To'][i] - finalBall['From'][i]) + 1\n",
    "    \n",
    "    # Assign the value\n",
    "    finalBall['years_played'][i] = num"
   ]
  },
  {
   "cell_type": "code",
   "execution_count": 88,
   "id": "25e612c2",
   "metadata": {},
   "outputs": [
    {
     "name": "stderr",
     "output_type": "stream",
     "text": [
      "<ipython-input-88-8a3a216401e2>:13: SettingWithCopyWarning:\n",
      "\n",
      "\n",
      "A value is trying to be set on a copy of a slice from a DataFrame\n",
      "\n",
      "See the caveats in the documentation: https://pandas.pydata.org/pandas-docs/stable/user_guide/indexing.html#returning-a-view-versus-a-copy\n",
      "\n",
      "<ipython-input-88-8a3a216401e2>:19: SettingWithCopyWarning:\n",
      "\n",
      "\n",
      "A value is trying to be set on a copy of a slice from a DataFrame\n",
      "\n",
      "See the caveats in the documentation: https://pandas.pydata.org/pandas-docs/stable/user_guide/indexing.html#returning-a-view-versus-a-copy\n",
      "\n",
      "<ipython-input-88-8a3a216401e2>:22: SettingWithCopyWarning:\n",
      "\n",
      "\n",
      "A value is trying to be set on a copy of a slice from a DataFrame\n",
      "\n",
      "See the caveats in the documentation: https://pandas.pydata.org/pandas-docs/stable/user_guide/indexing.html#returning-a-view-versus-a-copy\n",
      "\n",
      "<ipython-input-88-8a3a216401e2>:42: SettingWithCopyWarning:\n",
      "\n",
      "\n",
      "A value is trying to be set on a copy of a slice from a DataFrame\n",
      "\n",
      "See the caveats in the documentation: https://pandas.pydata.org/pandas-docs/stable/user_guide/indexing.html#returning-a-view-versus-a-copy\n",
      "\n"
     ]
    }
   ],
   "source": [
    "# 2b. Ht_in = heaight in inches\n",
    "# finalBall.head()\n",
    "\n",
    "\n",
    "# Create a temporary height column\n",
    "finalBall['Feet'] = \"\"\n",
    "finalBall['Inches'] = \"\"\n",
    "\n",
    "# Loop through the entire dataframe\n",
    "for i in range(4897):\n",
    "    \n",
    "    # Assign the feet column\n",
    "    finalBall['Feet'][i] = finalBall['Ht'][i][0]\n",
    "\n",
    "    # If they are 10, 11 or 12 inches\n",
    "    if(len(finalBall['Ht'][i]) == 4):\n",
    "        \n",
    "        # Then assign the last 2 digits\n",
    "        finalBall['Inches'][i] = finalBall['Ht'][i][2:4] \n",
    "        \n",
    "    else:\n",
    "        finalBall['Inches'][i] = finalBall['Ht'][i][2:3]\n",
    "\n",
    "# Change both of the columns to numeric\n",
    "finalBall['Feet'] = pd.to_numeric(finalBall['Feet'])\n",
    "finalBall['Inches'] = pd.to_numeric(finalBall['Inches'])\n",
    "\n",
    "# Create the height in inches column\n",
    "finalBall['Ht_in'] = \"\"\n",
    "finalBall['Ht_in'] = pd.to_numeric(finalBall['Ht_in'])\n",
    "\n",
    "# Loop through the dataset\n",
    "for i in range(4897):\n",
    "    \n",
    "    # Calculate feet in inches\n",
    "    val = (finalBall['Feet'][i]) * 12.0\n",
    "    \n",
    "    # Get our final value\n",
    "    finalVal = val + (finalBall['Inches'][i])\n",
    "    \n",
    "    # Assign it\n",
    "    finalBall['Ht_in'][i] = finalVal\n",
    "\n",
    "    \n",
    "# Drop what we don't need\n",
    "finalBall = finalBall.drop(['Feet', 'Inches'], axis=1)"
   ]
  },
  {
   "cell_type": "code",
   "execution_count": 89,
   "id": "05453d2c",
   "metadata": {},
   "outputs": [
    {
     "name": "stderr",
     "output_type": "stream",
     "text": [
      "<ipython-input-89-8a0b761a9241>:16: SettingWithCopyWarning:\n",
      "\n",
      "\n",
      "A value is trying to be set on a copy of a slice from a DataFrame\n",
      "\n",
      "See the caveats in the documentation: https://pandas.pydata.org/pandas-docs/stable/user_guide/indexing.html#returning-a-view-versus-a-copy\n",
      "\n",
      "<ipython-input-89-8a0b761a9241>:12: SettingWithCopyWarning:\n",
      "\n",
      "\n",
      "A value is trying to be set on a copy of a slice from a DataFrame\n",
      "\n",
      "See the caveats in the documentation: https://pandas.pydata.org/pandas-docs/stable/user_guide/indexing.html#returning-a-view-versus-a-copy\n",
      "\n"
     ]
    }
   ],
   "source": [
    "# 2c. Hall of fame (1 or 0)\n",
    "finalBall['HOF'] = \"\"\n",
    "finalBall['HOF'] = pd.to_numeric(finalBall['HOF'])\n",
    "\n",
    "# Loop through the entire dataset\n",
    "for i in range(4897): \n",
    "    \n",
    "    # If there is an asterisk...\n",
    "    if(finalBall['Player'][i][-1:] == \"*\"):\n",
    "        \n",
    "        # Hall of Fame is true\n",
    "        finalBall['HOF'][i] = 1\n",
    "        \n",
    "    # Other wise they are not\n",
    "    else:\n",
    "        finalBall['HOF'][i] = 0"
   ]
  },
  {
   "cell_type": "code",
   "execution_count": 108,
   "id": "f6e565e8",
   "metadata": {
    "collapsed": true
   },
   "outputs": [
    {
     "name": "stderr",
     "output_type": "stream",
     "text": [
      "<ipython-input-108-6d7066536ae6>:15: SettingWithCopyWarning:\n",
      "\n",
      "\n",
      "A value is trying to be set on a copy of a slice from a DataFrame\n",
      "\n",
      "See the caveats in the documentation: https://pandas.pydata.org/pandas-docs/stable/user_guide/indexing.html#returning-a-view-versus-a-copy\n",
      "\n"
     ]
    }
   ],
   "source": [
    "# 2d. start_age = Age at entrance to NBA \n",
    "finalBall['Birth Date'] = finalBall['Birth Date'].astype(str)\n",
    "finalBall['Birth Year'] = \"\"\n",
    "\n",
    "# Loop through the entire dataset\n",
    "for i in range(4897):\n",
    "    \n",
    "    # First control for nan\n",
    "    if(finalBall['Birth Date'][i] == \"nan\"):\n",
    "        \n",
    "        # Then assign no birth date\n",
    "        finalBall['Birth Date'][i] == \"No Birth Date\"\n",
    "\n",
    "    # Extract the last 4 digits\n",
    "    finalBall['Birth Year'][i] = finalBall['Birth Date'][i][-4:]\n"
   ]
  },
  {
   "cell_type": "code",
   "execution_count": 120,
   "id": "06c7bf0a",
   "metadata": {},
   "outputs": [],
   "source": [
    "# Convert Birth Year to a float\n",
    "finalBall['Birth Year'] = finalBall['Birth Year'].astype(float)\n",
    "finalBall['From'] = finalBall['From'].astype(float)"
   ]
  },
  {
   "cell_type": "code",
   "execution_count": 121,
   "id": "26132dfc",
   "metadata": {
    "collapsed": true
   },
   "outputs": [
    {
     "ename": "ValueError",
     "evalue": "could not convert string to float: ''",
     "output_type": "error",
     "traceback": [
      "\u001b[0;31m---------------------------------------------------------------------------\u001b[0m",
      "\u001b[0;31mValueError\u001b[0m                                Traceback (most recent call last)",
      "\u001b[0;32m<ipython-input-121-296e897ccbcb>\u001b[0m in \u001b[0;36m<module>\u001b[0;34m\u001b[0m\n\u001b[1;32m      1\u001b[0m \u001b[0;31m# Create the Start Age variable\u001b[0m\u001b[0;34m\u001b[0m\u001b[0;34m\u001b[0m\u001b[0;34m\u001b[0m\u001b[0m\n\u001b[1;32m      2\u001b[0m \u001b[0mfinalBall\u001b[0m\u001b[0;34m[\u001b[0m\u001b[0;34m'start_age'\u001b[0m\u001b[0;34m]\u001b[0m \u001b[0;34m=\u001b[0m \u001b[0;34m\"\"\u001b[0m\u001b[0;34m\u001b[0m\u001b[0;34m\u001b[0m\u001b[0m\n\u001b[0;32m----> 3\u001b[0;31m \u001b[0mfinalBall\u001b[0m\u001b[0;34m[\u001b[0m\u001b[0;34m'start_age'\u001b[0m\u001b[0;34m]\u001b[0m \u001b[0;34m=\u001b[0m \u001b[0mnaDF\u001b[0m\u001b[0;34m[\u001b[0m\u001b[0;34m'start_age'\u001b[0m\u001b[0;34m]\u001b[0m\u001b[0;34m.\u001b[0m\u001b[0mastype\u001b[0m\u001b[0;34m(\u001b[0m\u001b[0mfloat\u001b[0m\u001b[0;34m)\u001b[0m\u001b[0;34m\u001b[0m\u001b[0;34m\u001b[0m\u001b[0m\n\u001b[0m\u001b[1;32m      4\u001b[0m \u001b[0;34m\u001b[0m\u001b[0m\n\u001b[1;32m      5\u001b[0m \u001b[0;31m# Loop through the dataset\u001b[0m\u001b[0;34m\u001b[0m\u001b[0;34m\u001b[0m\u001b[0;34m\u001b[0m\u001b[0m\n",
      "\u001b[0;32m~/opt/anaconda3/lib/python3.8/site-packages/pandas/core/generic.py\u001b[0m in \u001b[0;36mastype\u001b[0;34m(self, dtype, copy, errors)\u001b[0m\n\u001b[1;32m   5875\u001b[0m         \u001b[0;32melse\u001b[0m\u001b[0;34m:\u001b[0m\u001b[0;34m\u001b[0m\u001b[0;34m\u001b[0m\u001b[0m\n\u001b[1;32m   5876\u001b[0m             \u001b[0;31m# else, only a single dtype is given\u001b[0m\u001b[0;34m\u001b[0m\u001b[0;34m\u001b[0m\u001b[0;34m\u001b[0m\u001b[0m\n\u001b[0;32m-> 5877\u001b[0;31m             \u001b[0mnew_data\u001b[0m \u001b[0;34m=\u001b[0m \u001b[0mself\u001b[0m\u001b[0;34m.\u001b[0m\u001b[0m_mgr\u001b[0m\u001b[0;34m.\u001b[0m\u001b[0mastype\u001b[0m\u001b[0;34m(\u001b[0m\u001b[0mdtype\u001b[0m\u001b[0;34m=\u001b[0m\u001b[0mdtype\u001b[0m\u001b[0;34m,\u001b[0m \u001b[0mcopy\u001b[0m\u001b[0;34m=\u001b[0m\u001b[0mcopy\u001b[0m\u001b[0;34m,\u001b[0m \u001b[0merrors\u001b[0m\u001b[0;34m=\u001b[0m\u001b[0merrors\u001b[0m\u001b[0;34m)\u001b[0m\u001b[0;34m\u001b[0m\u001b[0;34m\u001b[0m\u001b[0m\n\u001b[0m\u001b[1;32m   5878\u001b[0m             \u001b[0;32mreturn\u001b[0m \u001b[0mself\u001b[0m\u001b[0;34m.\u001b[0m\u001b[0m_constructor\u001b[0m\u001b[0;34m(\u001b[0m\u001b[0mnew_data\u001b[0m\u001b[0;34m)\u001b[0m\u001b[0;34m.\u001b[0m\u001b[0m__finalize__\u001b[0m\u001b[0;34m(\u001b[0m\u001b[0mself\u001b[0m\u001b[0;34m,\u001b[0m \u001b[0mmethod\u001b[0m\u001b[0;34m=\u001b[0m\u001b[0;34m\"astype\"\u001b[0m\u001b[0;34m)\u001b[0m\u001b[0;34m\u001b[0m\u001b[0;34m\u001b[0m\u001b[0m\n\u001b[1;32m   5879\u001b[0m \u001b[0;34m\u001b[0m\u001b[0m\n",
      "\u001b[0;32m~/opt/anaconda3/lib/python3.8/site-packages/pandas/core/internals/managers.py\u001b[0m in \u001b[0;36mastype\u001b[0;34m(self, dtype, copy, errors)\u001b[0m\n\u001b[1;32m    629\u001b[0m         \u001b[0mself\u001b[0m\u001b[0;34m,\u001b[0m \u001b[0mdtype\u001b[0m\u001b[0;34m,\u001b[0m \u001b[0mcopy\u001b[0m\u001b[0;34m:\u001b[0m \u001b[0mbool\u001b[0m \u001b[0;34m=\u001b[0m \u001b[0;32mFalse\u001b[0m\u001b[0;34m,\u001b[0m \u001b[0merrors\u001b[0m\u001b[0;34m:\u001b[0m \u001b[0mstr\u001b[0m \u001b[0;34m=\u001b[0m \u001b[0;34m\"raise\"\u001b[0m\u001b[0;34m\u001b[0m\u001b[0;34m\u001b[0m\u001b[0m\n\u001b[1;32m    630\u001b[0m     ) -> \"BlockManager\":\n\u001b[0;32m--> 631\u001b[0;31m         \u001b[0;32mreturn\u001b[0m \u001b[0mself\u001b[0m\u001b[0;34m.\u001b[0m\u001b[0mapply\u001b[0m\u001b[0;34m(\u001b[0m\u001b[0;34m\"astype\"\u001b[0m\u001b[0;34m,\u001b[0m \u001b[0mdtype\u001b[0m\u001b[0;34m=\u001b[0m\u001b[0mdtype\u001b[0m\u001b[0;34m,\u001b[0m \u001b[0mcopy\u001b[0m\u001b[0;34m=\u001b[0m\u001b[0mcopy\u001b[0m\u001b[0;34m,\u001b[0m \u001b[0merrors\u001b[0m\u001b[0;34m=\u001b[0m\u001b[0merrors\u001b[0m\u001b[0;34m)\u001b[0m\u001b[0;34m\u001b[0m\u001b[0;34m\u001b[0m\u001b[0m\n\u001b[0m\u001b[1;32m    632\u001b[0m \u001b[0;34m\u001b[0m\u001b[0m\n\u001b[1;32m    633\u001b[0m     def convert(\n",
      "\u001b[0;32m~/opt/anaconda3/lib/python3.8/site-packages/pandas/core/internals/managers.py\u001b[0m in \u001b[0;36mapply\u001b[0;34m(self, f, align_keys, ignore_failures, **kwargs)\u001b[0m\n\u001b[1;32m    425\u001b[0m                     \u001b[0mapplied\u001b[0m \u001b[0;34m=\u001b[0m \u001b[0mb\u001b[0m\u001b[0;34m.\u001b[0m\u001b[0mapply\u001b[0m\u001b[0;34m(\u001b[0m\u001b[0mf\u001b[0m\u001b[0;34m,\u001b[0m \u001b[0;34m**\u001b[0m\u001b[0mkwargs\u001b[0m\u001b[0;34m)\u001b[0m\u001b[0;34m\u001b[0m\u001b[0;34m\u001b[0m\u001b[0m\n\u001b[1;32m    426\u001b[0m                 \u001b[0;32melse\u001b[0m\u001b[0;34m:\u001b[0m\u001b[0;34m\u001b[0m\u001b[0;34m\u001b[0m\u001b[0m\n\u001b[0;32m--> 427\u001b[0;31m                     \u001b[0mapplied\u001b[0m \u001b[0;34m=\u001b[0m \u001b[0mgetattr\u001b[0m\u001b[0;34m(\u001b[0m\u001b[0mb\u001b[0m\u001b[0;34m,\u001b[0m \u001b[0mf\u001b[0m\u001b[0;34m)\u001b[0m\u001b[0;34m(\u001b[0m\u001b[0;34m**\u001b[0m\u001b[0mkwargs\u001b[0m\u001b[0;34m)\u001b[0m\u001b[0;34m\u001b[0m\u001b[0;34m\u001b[0m\u001b[0m\n\u001b[0m\u001b[1;32m    428\u001b[0m             \u001b[0;32mexcept\u001b[0m \u001b[0;34m(\u001b[0m\u001b[0mTypeError\u001b[0m\u001b[0;34m,\u001b[0m \u001b[0mNotImplementedError\u001b[0m\u001b[0;34m)\u001b[0m\u001b[0;34m:\u001b[0m\u001b[0;34m\u001b[0m\u001b[0;34m\u001b[0m\u001b[0m\n\u001b[1;32m    429\u001b[0m                 \u001b[0;32mif\u001b[0m \u001b[0;32mnot\u001b[0m \u001b[0mignore_failures\u001b[0m\u001b[0;34m:\u001b[0m\u001b[0;34m\u001b[0m\u001b[0;34m\u001b[0m\u001b[0m\n",
      "\u001b[0;32m~/opt/anaconda3/lib/python3.8/site-packages/pandas/core/internals/blocks.py\u001b[0m in \u001b[0;36mastype\u001b[0;34m(self, dtype, copy, errors)\u001b[0m\n\u001b[1;32m    671\u001b[0m             \u001b[0mvals1d\u001b[0m \u001b[0;34m=\u001b[0m \u001b[0mvalues\u001b[0m\u001b[0;34m.\u001b[0m\u001b[0mravel\u001b[0m\u001b[0;34m(\u001b[0m\u001b[0;34m)\u001b[0m\u001b[0;34m\u001b[0m\u001b[0;34m\u001b[0m\u001b[0m\n\u001b[1;32m    672\u001b[0m             \u001b[0;32mtry\u001b[0m\u001b[0;34m:\u001b[0m\u001b[0;34m\u001b[0m\u001b[0;34m\u001b[0m\u001b[0m\n\u001b[0;32m--> 673\u001b[0;31m                 \u001b[0mvalues\u001b[0m \u001b[0;34m=\u001b[0m \u001b[0mastype_nansafe\u001b[0m\u001b[0;34m(\u001b[0m\u001b[0mvals1d\u001b[0m\u001b[0;34m,\u001b[0m \u001b[0mdtype\u001b[0m\u001b[0;34m,\u001b[0m \u001b[0mcopy\u001b[0m\u001b[0;34m=\u001b[0m\u001b[0;32mTrue\u001b[0m\u001b[0;34m)\u001b[0m\u001b[0;34m\u001b[0m\u001b[0;34m\u001b[0m\u001b[0m\n\u001b[0m\u001b[1;32m    674\u001b[0m             \u001b[0;32mexcept\u001b[0m \u001b[0;34m(\u001b[0m\u001b[0mValueError\u001b[0m\u001b[0;34m,\u001b[0m \u001b[0mTypeError\u001b[0m\u001b[0;34m)\u001b[0m\u001b[0;34m:\u001b[0m\u001b[0;34m\u001b[0m\u001b[0;34m\u001b[0m\u001b[0m\n\u001b[1;32m    675\u001b[0m                 \u001b[0;31m# e.g. astype_nansafe can fail on object-dtype of strings\u001b[0m\u001b[0;34m\u001b[0m\u001b[0;34m\u001b[0m\u001b[0;34m\u001b[0m\u001b[0m\n",
      "\u001b[0;32m~/opt/anaconda3/lib/python3.8/site-packages/pandas/core/dtypes/cast.py\u001b[0m in \u001b[0;36mastype_nansafe\u001b[0;34m(arr, dtype, copy, skipna)\u001b[0m\n\u001b[1;32m   1095\u001b[0m     \u001b[0;32mif\u001b[0m \u001b[0mcopy\u001b[0m \u001b[0;32mor\u001b[0m \u001b[0mis_object_dtype\u001b[0m\u001b[0;34m(\u001b[0m\u001b[0marr\u001b[0m\u001b[0;34m)\u001b[0m \u001b[0;32mor\u001b[0m \u001b[0mis_object_dtype\u001b[0m\u001b[0;34m(\u001b[0m\u001b[0mdtype\u001b[0m\u001b[0;34m)\u001b[0m\u001b[0;34m:\u001b[0m\u001b[0;34m\u001b[0m\u001b[0;34m\u001b[0m\u001b[0m\n\u001b[1;32m   1096\u001b[0m         \u001b[0;31m# Explicit copy, or required since NumPy can't view from / to object.\u001b[0m\u001b[0;34m\u001b[0m\u001b[0;34m\u001b[0m\u001b[0;34m\u001b[0m\u001b[0m\n\u001b[0;32m-> 1097\u001b[0;31m         \u001b[0;32mreturn\u001b[0m \u001b[0marr\u001b[0m\u001b[0;34m.\u001b[0m\u001b[0mastype\u001b[0m\u001b[0;34m(\u001b[0m\u001b[0mdtype\u001b[0m\u001b[0;34m,\u001b[0m \u001b[0mcopy\u001b[0m\u001b[0;34m=\u001b[0m\u001b[0;32mTrue\u001b[0m\u001b[0;34m)\u001b[0m\u001b[0;34m\u001b[0m\u001b[0;34m\u001b[0m\u001b[0m\n\u001b[0m\u001b[1;32m   1098\u001b[0m \u001b[0;34m\u001b[0m\u001b[0m\n\u001b[1;32m   1099\u001b[0m     \u001b[0;32mreturn\u001b[0m \u001b[0marr\u001b[0m\u001b[0;34m.\u001b[0m\u001b[0mview\u001b[0m\u001b[0;34m(\u001b[0m\u001b[0mdtype\u001b[0m\u001b[0;34m)\u001b[0m\u001b[0;34m\u001b[0m\u001b[0;34m\u001b[0m\u001b[0m\n",
      "\u001b[0;31mValueError\u001b[0m: could not convert string to float: ''"
     ]
    }
   ],
   "source": [
    "# Create the Start Age variable\n",
    "finalBall['start_age'] = \"\"\n",
    "finalBall['start_age'] = naDF['start_age'].astype(float)\n",
    "\n",
    "# Loop through the dataset\n",
    "for i in range(4897):\n",
    "    \n",
    "    # Get our values\n",
    "    value = finalBall['Birth Year'][i]\n",
    "    otherVal = finalBall['From'][i]\n",
    "    finalVal = otherVal - value\n",
    "    \n",
    "    # Assign it\n",
    "    finalBall['start_age'][i] = finalVal\n",
    "    \n",
    "# NOTE: I know my logic is right, but I'm struggling parsing some strings"
   ]
  },
  {
   "cell_type": "code",
   "execution_count": null,
   "id": "f419f93d",
   "metadata": {},
   "outputs": [],
   "source": [
    "# ANSWER TO QUESTION 2: Here's the final data\n",
    "print(finalBall.head())"
   ]
  },
  {
   "cell_type": "code",
   "execution_count": 23,
   "id": "e25395ca",
   "metadata": {
    "collapsed": true
   },
   "outputs": [
    {
     "data": {
      "text/html": [
       "<div>\n",
       "<style scoped>\n",
       "    .dataframe tbody tr th:only-of-type {\n",
       "        vertical-align: middle;\n",
       "    }\n",
       "\n",
       "    .dataframe tbody tr th {\n",
       "        vertical-align: top;\n",
       "    }\n",
       "\n",
       "    .dataframe thead th {\n",
       "        text-align: right;\n",
       "    }\n",
       "</style>\n",
       "<table border=\"1\" class=\"dataframe\">\n",
       "  <thead>\n",
       "    <tr style=\"text-align: right;\">\n",
       "      <th></th>\n",
       "      <th>index</th>\n",
       "      <th>Player</th>\n",
       "      <th>From</th>\n",
       "      <th>To</th>\n",
       "      <th>Pos</th>\n",
       "      <th>Ht</th>\n",
       "      <th>Wt</th>\n",
       "      <th>Birth Date</th>\n",
       "      <th>Colleges</th>\n",
       "      <th>years_played</th>\n",
       "      <th>Ht_in</th>\n",
       "      <th>HOF</th>\n",
       "      <th>Birth Year</th>\n",
       "      <th>start_age</th>\n",
       "    </tr>\n",
       "  </thead>\n",
       "  <tbody>\n",
       "    <tr>\n",
       "      <th>3452</th>\n",
       "      <td>126</td>\n",
       "      <td>Paul Pierce*</td>\n",
       "      <td>1999</td>\n",
       "      <td>2017</td>\n",
       "      <td>F-G</td>\n",
       "      <td>6-7</td>\n",
       "      <td>235.0</td>\n",
       "      <td>October 13, 1977</td>\n",
       "      <td>Kansas</td>\n",
       "      <td>19.0</td>\n",
       "      <td>79.0</td>\n",
       "      <td>1.0</td>\n",
       "      <td></td>\n",
       "      <td>NaN</td>\n",
       "    </tr>\n",
       "  </tbody>\n",
       "</table>\n",
       "</div>"
      ],
      "text/plain": [
       "      index        Player  From    To  Pos   Ht     Wt        Birth Date  \\\n",
       "3452    126  Paul Pierce*  1999  2017  F-G  6-7  235.0  October 13, 1977   \n",
       "\n",
       "     Colleges  years_played  Ht_in  HOF Birth Year  start_age  \n",
       "3452   Kansas          19.0   79.0  1.0                   NaN  "
      ]
     },
     "execution_count": 23,
     "metadata": {},
     "output_type": "execute_result"
    }
   ],
   "source": [
    "# 3. What is the latest \"To\" year of the players in the Hall of Fame?\n",
    "tempDf = finalBall['HOF'] == 1.0\n",
    "hofDf = finalBall[tempDf]\n",
    "\n",
    "# Check what year the max wax\n",
    "hofDf['To'].max()\n",
    "\n",
    "# Filter by 2017\n",
    "tempDf = finalBall['To'] == 2017\n",
    "latestDf = finalBall[tempDf]\n",
    "\n",
    "#Filter by Hall of Fame\n",
    "tempDf = latestDf['HOF'] == 1.0\n",
    "checkDf = latestDf[tempDf]\n",
    "\n",
    "# Look\n",
    "checkDf.head()\n",
    "\n",
    "# ANSWER: Paul Pierce is the most recent Hall of Fame inductee"
   ]
  },
  {
   "cell_type": "code",
   "execution_count": 24,
   "id": "b09586d0",
   "metadata": {
    "collapsed": true
   },
   "outputs": [
    {
     "data": {
      "text/plain": [
       "<AxesSubplot:xlabel='HOF', ylabel='Ht_in'>"
      ]
     },
     "execution_count": 24,
     "metadata": {},
     "output_type": "execute_result"
    },
    {
     "data": {
      "image/png": "[encoded data removed]",
      "text/plain": [
       "<Figure size 432x288 with 1 Axes>"
      ]
     },
     "metadata": {
      "needs_background": "light"
     },
     "output_type": "display_data"
    }
   ],
   "source": [
    "# 4. Make side-by-side boxplots of height in inches by whether or not a player is in the Hall of Fame.\n",
    "\n",
    "# Import seaborn\n",
    "import seaborn as sns\n",
    "\n",
    "# Create our boxplot\n",
    "sns.boxplot(x=\"HOF\", y = \"Ht_in\", data = finalBall)"
   ]
  },
  {
   "cell_type": "code",
   "execution_count": 39,
   "id": "0128e85e",
   "metadata": {
    "collapsed": true
   },
   "outputs": [
    {
     "data": {
      "text/plain": [
       "<AxesSubplot:xlabel='HOF', ylabel='Wt'>"
      ]
     },
     "execution_count": 39,
     "metadata": {},
     "output_type": "execute_result"
    },
    {
     "data": {
      "image/png": "[encoded data removed]",
      "text/plain": [
       "<Figure size 432x288 with 1 Axes>"
      ]
     },
     "metadata": {
      "needs_background": "light"
     },
     "output_type": "display_data"
    }
   ],
   "source": [
    "# 5. Make side-by-side boxplots of weight by whether or not a player is in the Hall of Fame.\n",
    "sns.boxplot(x=\"HOF\", y = \"Wt\", data = finalBall)"
   ]
  },
  {
   "cell_type": "code",
   "execution_count": 38,
   "id": "ea397af1",
   "metadata": {},
   "outputs": [
    {
     "data": {
      "text/plain": [
       "<AxesSubplot:xlabel='HOF', ylabel='years_played'>"
      ]
     },
     "execution_count": 38,
     "metadata": {},
     "output_type": "execute_result"
    },
    {
     "data": {
      "image/png": "[encoded data removed]",
      "text/plain": [
       "<Figure size 432x288 with 1 Axes>"
      ]
     },
     "metadata": {
      "needs_background": "light"
     },
     "output_type": "display_data"
    }
   ],
   "source": [
    "# 6. Make side-by-side boxplots of years played by whether or not a player is in the Hall of Fame.\n",
    "sns.boxplot(x=\"HOF\", y = \"years_played\", data = finalBall)\n",
    "\n",
    "# Note: This is the first that seems significant"
   ]
  },
  {
   "cell_type": "code",
   "execution_count": null,
   "id": "56a6e290",
   "metadata": {},
   "outputs": [],
   "source": [
    "# 7. Make side-by-side boxplots of age at entrance into the NBA by whether or not a player is in the Hall of Fame.\n",
    "sns.boxplot(x=\"HOF\", y = \"years_played\", data = finalBall)\n",
    "\n",
    "# Note: I couldn't get my \"start_age\" variable to work, but this ^^^^ would be the code"
   ]
  },
  {
   "cell_type": "code",
   "execution_count": 27,
   "id": "61881d51",
   "metadata": {},
   "outputs": [],
   "source": [
    "# ----------------------------- PART 3 ------------------------------------\n",
    "# Use the \"babynames.csv\" dataset from class (Learning Suite October 5)\n",
    "names = pd.read_csv('babynames.csv')"
   ]
  },
  {
   "cell_type": "code",
   "execution_count": 28,
   "id": "e9983e34",
   "metadata": {},
   "outputs": [],
   "source": [
    "# 1. Subset the data with only names that start with \"Kris\", \"Cris\", \"Chris\"\n",
    "\n",
    "# First lets create the Kris dataset\n",
    "tempDf = names['name'] == \"Kris\"\n",
    "krisDf = names[tempDf]\n",
    "\n",
    "# tempDf= \n",
    "tempDf = names['name'] == \"Chris\"\n",
    "chrisDf = names[tempDf]\n",
    "\n",
    "# Finally for Cris\n",
    "tempDf = names['name'] == \"Cris\"\n",
    "crisDf = names[tempDf]"
   ]
  },
  {
   "cell_type": "code",
   "execution_count": 29,
   "id": "bde422e2",
   "metadata": {},
   "outputs": [],
   "source": [
    "# Add each of the dataframes to a list so we can merge\n",
    "namesList = []\n",
    "namesList.append(krisDf)\n",
    "namesList.append(chrisDf)\n",
    "namesList.append(crisDf)\n",
    "\n",
    "# Put them all together\n",
    "namesFinal = pd.concat(namesList)"
   ]
  },
  {
   "cell_type": "code",
   "execution_count": 30,
   "id": "94fb2b9e",
   "metadata": {
    "collapsed": true
   },
   "outputs": [
    {
     "data": {
      "text/html": [
       "<div>\n",
       "<style scoped>\n",
       "    .dataframe tbody tr th:only-of-type {\n",
       "        vertical-align: middle;\n",
       "    }\n",
       "\n",
       "    .dataframe tbody tr th {\n",
       "        vertical-align: top;\n",
       "    }\n",
       "\n",
       "    .dataframe thead th {\n",
       "        text-align: right;\n",
       "    }\n",
       "</style>\n",
       "<table border=\"1\" class=\"dataframe\">\n",
       "  <thead>\n",
       "    <tr style=\"text-align: right;\">\n",
       "      <th></th>\n",
       "      <th></th>\n",
       "      <th>year</th>\n",
       "      <th>n</th>\n",
       "      <th>prop</th>\n",
       "    </tr>\n",
       "    <tr>\n",
       "      <th>name</th>\n",
       "      <th>sex</th>\n",
       "      <th></th>\n",
       "      <th></th>\n",
       "      <th></th>\n",
       "    </tr>\n",
       "  </thead>\n",
       "  <tbody>\n",
       "    <tr>\n",
       "      <th rowspan=\"2\" valign=\"top\">Chris</th>\n",
       "      <th>F</th>\n",
       "      <td>196652</td>\n",
       "      <td>22904</td>\n",
       "      <td>0.012223</td>\n",
       "    </tr>\n",
       "    <tr>\n",
       "      <th>M</th>\n",
       "      <td>268893</td>\n",
       "      <td>144112</td>\n",
       "      <td>0.086183</td>\n",
       "    </tr>\n",
       "    <tr>\n",
       "      <th rowspan=\"2\" valign=\"top\">Cris</th>\n",
       "      <th>F</th>\n",
       "      <td>84618</td>\n",
       "      <td>1088</td>\n",
       "      <td>0.000572</td>\n",
       "    </tr>\n",
       "    <tr>\n",
       "      <th>M</th>\n",
       "      <td>179296</td>\n",
       "      <td>2900</td>\n",
       "      <td>0.001560</td>\n",
       "    </tr>\n",
       "    <tr>\n",
       "      <th rowspan=\"2\" valign=\"top\">Kris</th>\n",
       "      <th>F</th>\n",
       "      <td>154323</td>\n",
       "      <td>13490</td>\n",
       "      <td>0.007252</td>\n",
       "    </tr>\n",
       "    <tr>\n",
       "      <th>M</th>\n",
       "      <td>158199</td>\n",
       "      <td>13982</td>\n",
       "      <td>0.007316</td>\n",
       "    </tr>\n",
       "  </tbody>\n",
       "</table>\n",
       "</div>"
      ],
      "text/plain": [
       "             year       n      prop\n",
       "name  sex                          \n",
       "Chris F    196652   22904  0.012223\n",
       "      M    268893  144112  0.086183\n",
       "Cris  F     84618    1088  0.000572\n",
       "      M    179296    2900  0.001560\n",
       "Kris  F    154323   13490  0.007252\n",
       "      M    158199   13982  0.007316"
      ]
     },
     "execution_count": 30,
     "metadata": {},
     "output_type": "execute_result"
    }
   ],
   "source": [
    "# 2. What are the most common male and female names in the subsetted data?\n",
    "namesFinal.groupby(['name', 'sex']).sum()\n",
    "\n",
    "# ANSWER: The most Common Male AND Female name is \"Chris\""
   ]
  },
  {
   "cell_type": "code",
   "execution_count": 40,
   "id": "ff49eaed",
   "metadata": {},
   "outputs": [
    {
     "data": {
      "application/vnd.plotly.v1+json": {
       "config": {
        "plotlyServerURL": "https://plot.ly"
       },
       "data": [
        {
         "hovertemplate": "sex=F<br>year=%{x}<br>n=%{y}<extra></extra>",
         "legendgroup": "F",
         "line": {
          "color": "#636efa",
          "dash": "solid"
         },
         "mode": "lines",
         "name": "F",
         "orientation": "v",
         "showlegend": true,
         "type": "scatter",
         "x": [
          1914,
          1917,
          1919,
          1920,
          1921,
          1922,
          1923,
          1924,
          1925,
          1926,
          1927,
          1928,
          1929,
          1930,
          1931,
          1932,
          1933,
          1934,
          1935,
          1936,
          1937,
          1938,
          1939,
          1940,
          1941,
          1942,
          1943,
          1944,
          1945,
          1946,
          1947,
          1948,
          1949,
          1950,
          1951,
          1952,
          1953,
          1954,
          1955,
          1956,
          1957,
          1958,
          1959,
          1960,
          1961,
          1962,
          1963,
          1964,
          1965,
          1966,
          1967,
          1968,
          1969,
          1970,
          1971,
          1972,
          1973,
          1974,
          1975,
          1976,
          1977,
          1978,
          1979,
          1980,
          1981,
          1982,
          1983,
          1984,
          1985,
          1986,
          1987,
          1988,
          1989,
          1990,
          1991,
          1992,
          1993,
          1994,
          1995,
          1996,
          1997,
          1998,
          1999,
          2000,
          2001,
          2002,
          2003,
          2004,
          2005,
          2006,
          2007,
          2008,
          2009,
          2010,
          2011,
          2012,
          2013,
          2014,
          2015,
          2016,
          2017
         ],
         "xaxis": "x",
         "y": [
          8,
          6,
          7,
          11,
          6,
          12,
          14,
          14,
          7,
          13,
          15,
          20,
          16,
          14,
          15,
          22,
          17,
          14,
          19,
          20,
          26,
          26,
          35,
          40,
          52,
          83,
          118,
          139,
          174,
          277,
          433,
          455,
          351,
          333,
          452,
          509,
          531,
          586,
          756,
          955,
          1508,
          1967,
          2061,
          2160,
          2253,
          2157,
          2204,
          2379,
          2116,
          1759,
          1486,
          1288,
          1085,
          927,
          664,
          558,
          473,
          386,
          356,
          305,
          272,
          270,
          233,
          200,
          155,
          146,
          102,
          99,
          94,
          85,
          71,
          73,
          56,
          60,
          69,
          50,
          53,
          42,
          45,
          50,
          42,
          29,
          27,
          32,
          31,
          31,
          26,
          35,
          21,
          19,
          26,
          30,
          25,
          24,
          15,
          23,
          30,
          24,
          32,
          22,
          20
         ],
         "yaxis": "y"
        },
        {
         "hovertemplate": "sex=M<br>year=%{x}<br>n=%{y}<extra></extra>",
         "legendgroup": "M",
         "line": {
          "color": "#EF553B",
          "dash": "solid"
         },
         "mode": "lines",
         "name": "M",
         "orientation": "v",
         "showlegend": true,
         "type": "scatter",
         "x": [
          1880,
          1881,
          1882,
          1883,
          1884,
          1885,
          1886,
          1887,
          1888,
          1889,
          1890,
          1891,
          1892,
          1893,
          1894,
          1895,
          1896,
          1897,
          1898,
          1899,
          1900,
          1901,
          1902,
          1903,
          1904,
          1905,
          1906,
          1907,
          1908,
          1909,
          1910,
          1911,
          1912,
          1913,
          1914,
          1915,
          1916,
          1917,
          1918,
          1919,
          1920,
          1921,
          1922,
          1923,
          1924,
          1925,
          1926,
          1927,
          1928,
          1929,
          1930,
          1931,
          1932,
          1933,
          1934,
          1935,
          1936,
          1937,
          1938,
          1939,
          1940,
          1941,
          1942,
          1943,
          1944,
          1945,
          1946,
          1947,
          1948,
          1949,
          1950,
          1951,
          1952,
          1953,
          1954,
          1955,
          1956,
          1957,
          1958,
          1959,
          1960,
          1961,
          1962,
          1963,
          1964,
          1965,
          1966,
          1967,
          1968,
          1969,
          1970,
          1971,
          1972,
          1973,
          1974,
          1975,
          1976,
          1977,
          1978,
          1979,
          1980,
          1981,
          1982,
          1983,
          1984,
          1985,
          1986,
          1987,
          1988,
          1989,
          1990,
          1991,
          1992,
          1993,
          1994,
          1995,
          1996,
          1997,
          1998,
          1999,
          2000,
          2001,
          2002,
          2003,
          2004,
          2005,
          2006,
          2007,
          2008,
          2009,
          2010,
          2011,
          2012,
          2013,
          2014,
          2015,
          2016,
          2017
         ],
         "xaxis": "x",
         "y": [
          49,
          52,
          39,
          47,
          57,
          55,
          62,
          46,
          59,
          42,
          32,
          32,
          49,
          40,
          45,
          41,
          53,
          35,
          33,
          36,
          45,
          26,
          37,
          35,
          27,
          25,
          30,
          29,
          37,
          48,
          32,
          43,
          82,
          81,
          126,
          145,
          155,
          145,
          187,
          134,
          180,
          147,
          175,
          162,
          184,
          187,
          168,
          153,
          164,
          176,
          172,
          154,
          208,
          147,
          186,
          186,
          190,
          202,
          234,
          252,
          326,
          339,
          398,
          474,
          573,
          591,
          895,
          1200,
          1422,
          1529,
          1376,
          1654,
          1971,
          1808,
          2058,
          2490,
          2863,
          3686,
          4986,
          6238,
          7081,
          7816,
          7396,
          6926,
          6155,
          5959,
          5696,
          4995,
          4590,
          4713,
          4943,
          4747,
          3920,
          3097,
          2737,
          2307,
          1936,
          1917,
          1738,
          1584,
          1223,
          1004,
          869,
          782,
          762,
          716,
          645,
          625,
          603,
          634,
          578,
          590,
          556,
          529,
          519,
          574,
          641,
          605,
          680,
          707,
          730,
          793,
          776,
          768,
          768,
          826,
          969,
          1030,
          1047,
          995,
          794,
          673,
          747,
          704,
          620,
          646,
          586,
          550
         ],
         "yaxis": "y"
        }
       ],
       "layout": {
        "legend": {
         "title": {
          "text": "sex"
         },
         "tracegroupgap": 0
        },
        "template": {
         "data": {
          "bar": [
           {
            "error_x": {
             "color": "#2a3f5f"
            },
            "error_y": {
             "color": "#2a3f5f"
            },
            "marker": {
             "line": {
              "color": "#E5ECF6",
              "width": 0.5
             },
             "pattern": {
              "fillmode": "overlay",
              "size": 10,
              "solidity": 0.2
             }
            },
            "type": "bar"
           }
          ],
          "barpolar": [
           {
            "marker": {
             "line": {
              "color": "#E5ECF6",
              "width": 0.5
             },
             "pattern": {
              "fillmode": "overlay",
              "size": 10,
              "solidity": 0.2
             }
            },
            "type": "barpolar"
           }
          ],
          "carpet": [
           {
            "aaxis": {
             "endlinecolor": "#2a3f5f",
             "gridcolor": "white",
             "linecolor": "white",
             "minorgridcolor": "white",
             "startlinecolor": "#2a3f5f"
            },
            "baxis": {
             "endlinecolor": "#2a3f5f",
             "gridcolor": "white",
             "linecolor": "white",
             "minorgridcolor": "white",
             "startlinecolor": "#2a3f5f"
            },
            "type": "carpet"
           }
          ],
          "choropleth": [
           {
            "colorbar": {
             "outlinewidth": 0,
             "ticks": ""
            },
            "type": "choropleth"
           }
          ],
          "contour": [
           {
            "colorbar": {
             "outlinewidth": 0,
             "ticks": ""
            },
            "colorscale": [
             [
              0,
              "#0d0887"
             ],
             [
              0.1111111111111111,
              "#46039f"
             ],
             [
              0.2222222222222222,
              "#7201a8"
             ],
             [
              0.3333333333333333,
              "#9c179e"
             ],
             [
              0.4444444444444444,
              "#bd3786"
             ],
             [
              0.5555555555555556,
              "#d8576b"
             ],
             [
              0.6666666666666666,
              "#ed7953"
             ],
             [
              0.7777777777777778,
              "#fb9f3a"
             ],
             [
              0.8888888888888888,
              "#fdca26"
             ],
             [
              1,
              "#f0f921"
             ]
            ],
            "type": "contour"
           }
          ],
          "contourcarpet": [
           {
            "colorbar": {
             "outlinewidth": 0,
             "ticks": ""
            },
            "type": "contourcarpet"
           }
          ],
          "heatmap": [
           {
            "colorbar": {
             "outlinewidth": 0,
             "ticks": ""
            },
            "colorscale": [
             [
              0,
              "#0d0887"
             ],
             [
              0.1111111111111111,
              "#46039f"
             ],
             [
              0.2222222222222222,
              "#7201a8"
             ],
             [
              0.3333333333333333,
              "#9c179e"
             ],
             [
              0.4444444444444444,
              "#bd3786"
             ],
             [
              0.5555555555555556,
              "#d8576b"
             ],
             [
              0.6666666666666666,
              "#ed7953"
             ],
             [
              0.7777777777777778,
              "#fb9f3a"
             ],
             [
              0.8888888888888888,
              "#fdca26"
             ],
             [
              1,
              "#f0f921"
             ]
            ],
            "type": "heatmap"
           }
          ],
          "heatmapgl": [
           {
            "colorbar": {
             "outlinewidth": 0,
             "ticks": ""
            },
            "colorscale": [
             [
              0,
              "#0d0887"
             ],
             [
              0.1111111111111111,
              "#46039f"
             ],
             [
              0.2222222222222222,
              "#7201a8"
             ],
             [
              0.3333333333333333,
              "#9c179e"
             ],
             [
              0.4444444444444444,
              "#bd3786"
             ],
             [
              0.5555555555555556,
              "#d8576b"
             ],
             [
              0.6666666666666666,
              "#ed7953"
             ],
             [
              0.7777777777777778,
              "#fb9f3a"
             ],
             [
              0.8888888888888888,
              "#fdca26"
             ],
             [
              1,
              "#f0f921"
             ]
            ],
            "type": "heatmapgl"
           }
          ],
          "histogram": [
           {
            "marker": {
             "pattern": {
              "fillmode": "overlay",
              "size": 10,
              "solidity": 0.2
             }
            },
            "type": "histogram"
           }
          ],
          "histogram2d": [
           {
            "colorbar": {
             "outlinewidth": 0,
             "ticks": ""
            },
            "colorscale": [
             [
              0,
              "#0d0887"
             ],
             [
              0.1111111111111111,
              "#46039f"
             ],
             [
              0.2222222222222222,
              "#7201a8"
             ],
             [
              0.3333333333333333,
              "#9c179e"
             ],
             [
              0.4444444444444444,
              "#bd3786"
             ],
             [
              0.5555555555555556,
              "#d8576b"
             ],
             [
              0.6666666666666666,
              "#ed7953"
             ],
             [
              0.7777777777777778,
              "#fb9f3a"
             ],
             [
              0.8888888888888888,
              "#fdca26"
             ],
             [
              1,
              "#f0f921"
             ]
            ],
            "type": "histogram2d"
           }
          ],
          "histogram2dcontour": [
           {
            "colorbar": {
             "outlinewidth": 0,
             "ticks": ""
            },
            "colorscale": [
             [
              0,
              "#0d0887"
             ],
             [
              0.1111111111111111,
              "#46039f"
             ],
             [
              0.2222222222222222,
              "#7201a8"
             ],
             [
              0.3333333333333333,
              "#9c179e"
             ],
             [
              0.4444444444444444,
              "#bd3786"
             ],
             [
              0.5555555555555556,
              "#d8576b"
             ],
             [
              0.6666666666666666,
              "#ed7953"
             ],
             [
              0.7777777777777778,
              "#fb9f3a"
             ],
             [
              0.8888888888888888,
              "#fdca26"
             ],
             [
              1,
              "#f0f921"
             ]
            ],
            "type": "histogram2dcontour"
           }
          ],
          "mesh3d": [
           {
            "colorbar": {
             "outlinewidth": 0,
             "ticks": ""
            },
            "type": "mesh3d"
           }
          ],
          "parcoords": [
           {
            "line": {
             "colorbar": {
              "outlinewidth": 0,
              "ticks": ""
             }
            },
            "type": "parcoords"
           }
          ],
          "pie": [
           {
            "automargin": true,
            "type": "pie"
           }
          ],
          "scatter": [
           {
            "marker": {
             "colorbar": {
              "outlinewidth": 0,
              "ticks": ""
             }
            },
            "type": "scatter"
           }
          ],
          "scatter3d": [
           {
            "line": {
             "colorbar": {
              "outlinewidth": 0,
              "ticks": ""
             }
            },
            "marker": {
             "colorbar": {
              "outlinewidth": 0,
              "ticks": ""
             }
            },
            "type": "scatter3d"
           }
          ],
          "scattercarpet": [
           {
            "marker": {
             "colorbar": {
              "outlinewidth": 0,
              "ticks": ""
             }
            },
            "type": "scattercarpet"
           }
          ],
          "scattergeo": [
           {
            "marker": {
             "colorbar": {
              "outlinewidth": 0,
              "ticks": ""
             }
            },
            "type": "scattergeo"
           }
          ],
          "scattergl": [
           {
            "marker": {
             "colorbar": {
              "outlinewidth": 0,
              "ticks": ""
             }
            },
            "type": "scattergl"
           }
          ],
          "scattermapbox": [
           {
            "marker": {
             "colorbar": {
              "outlinewidth": 0,
              "ticks": ""
             }
            },
            "type": "scattermapbox"
           }
          ],
          "scatterpolar": [
           {
            "marker": {
             "colorbar": {
              "outlinewidth": 0,
              "ticks": ""
             }
            },
            "type": "scatterpolar"
           }
          ],
          "scatterpolargl": [
           {
            "marker": {
             "colorbar": {
              "outlinewidth": 0,
              "ticks": ""
             }
            },
            "type": "scatterpolargl"
           }
          ],
          "scatterternary": [
           {
            "marker": {
             "colorbar": {
              "outlinewidth": 0,
              "ticks": ""
             }
            },
            "type": "scatterternary"
           }
          ],
          "surface": [
           {
            "colorbar": {
             "outlinewidth": 0,
             "ticks": ""
            },
            "colorscale": [
             [
              0,
              "#0d0887"
             ],
             [
              0.1111111111111111,
              "#46039f"
             ],
             [
              0.2222222222222222,
              "#7201a8"
             ],
             [
              0.3333333333333333,
              "#9c179e"
             ],
             [
              0.4444444444444444,
              "#bd3786"
             ],
             [
              0.5555555555555556,
              "#d8576b"
             ],
             [
              0.6666666666666666,
              "#ed7953"
             ],
             [
              0.7777777777777778,
              "#fb9f3a"
             ],
             [
              0.8888888888888888,
              "#fdca26"
             ],
             [
              1,
              "#f0f921"
             ]
            ],
            "type": "surface"
           }
          ],
          "table": [
           {
            "cells": {
             "fill": {
              "color": "#EBF0F8"
             },
             "line": {
              "color": "white"
             }
            },
            "header": {
             "fill": {
              "color": "#C8D4E3"
             },
             "line": {
              "color": "white"
             }
            },
            "type": "table"
           }
          ]
         },
         "layout": {
          "annotationdefaults": {
           "arrowcolor": "#2a3f5f",
           "arrowhead": 0,
           "arrowwidth": 1
          },
          "autotypenumbers": "strict",
          "coloraxis": {
           "colorbar": {
            "outlinewidth": 0,
            "ticks": ""
           }
          },
          "colorscale": {
           "diverging": [
            [
             0,
             "#8e0152"
            ],
            [
             0.1,
             "#c51b7d"
            ],
            [
             0.2,
             "#de77ae"
            ],
            [
             0.3,
             "#f1b6da"
            ],
            [
             0.4,
             "#fde0ef"
            ],
            [
             0.5,
             "#f7f7f7"
            ],
            [
             0.6,
             "#e6f5d0"
            ],
            [
             0.7,
             "#b8e186"
            ],
            [
             0.8,
             "#7fbc41"
            ],
            [
             0.9,
             "#4d9221"
            ],
            [
             1,
             "#276419"
            ]
           ],
           "sequential": [
            [
             0,
             "#0d0887"
            ],
            [
             0.1111111111111111,
             "#46039f"
            ],
            [
             0.2222222222222222,
             "#7201a8"
            ],
            [
             0.3333333333333333,
             "#9c179e"
            ],
            [
             0.4444444444444444,
             "#bd3786"
            ],
            [
             0.5555555555555556,
             "#d8576b"
            ],
            [
             0.6666666666666666,
             "#ed7953"
            ],
            [
             0.7777777777777778,
             "#fb9f3a"
            ],
            [
             0.8888888888888888,
             "#fdca26"
            ],
            [
             1,
             "#f0f921"
            ]
           ],
           "sequentialminus": [
            [
             0,
             "#0d0887"
            ],
            [
             0.1111111111111111,
             "#46039f"
            ],
            [
             0.2222222222222222,
             "#7201a8"
            ],
            [
             0.3333333333333333,
             "#9c179e"
            ],
            [
             0.4444444444444444,
             "#bd3786"
            ],
            [
             0.5555555555555556,
             "#d8576b"
            ],
            [
             0.6666666666666666,
             "#ed7953"
            ],
            [
             0.7777777777777778,
             "#fb9f3a"
            ],
            [
             0.8888888888888888,
             "#fdca26"
            ],
            [
             1,
             "#f0f921"
            ]
           ]
          },
          "colorway": [
           "#636efa",
           "#EF553B",
           "#00cc96",
           "#ab63fa",
           "#FFA15A",
           "#19d3f3",
           "#FF6692",
           "#B6E880",
           "#FF97FF",
           "#FECB52"
          ],
          "font": {
           "color": "#2a3f5f"
          },
          "geo": {
           "bgcolor": "white",
           "lakecolor": "white",
           "landcolor": "#E5ECF6",
           "showlakes": true,
           "showland": true,
           "subunitcolor": "white"
          },
          "hoverlabel": {
           "align": "left"
          },
          "hovermode": "closest",
          "mapbox": {
           "style": "light"
          },
          "paper_bgcolor": "white",
          "plot_bgcolor": "#E5ECF6",
          "polar": {
           "angularaxis": {
            "gridcolor": "white",
            "linecolor": "white",
            "ticks": ""
           },
           "bgcolor": "#E5ECF6",
           "radialaxis": {
            "gridcolor": "white",
            "linecolor": "white",
            "ticks": ""
           }
          },
          "scene": {
           "xaxis": {
            "backgroundcolor": "#E5ECF6",
            "gridcolor": "white",
            "gridwidth": 2,
            "linecolor": "white",
            "showbackground": true,
            "ticks": "",
            "zerolinecolor": "white"
           },
           "yaxis": {
            "backgroundcolor": "#E5ECF6",
            "gridcolor": "white",
            "gridwidth": 2,
            "linecolor": "white",
            "showbackground": true,
            "ticks": "",
            "zerolinecolor": "white"
           },
           "zaxis": {
            "backgroundcolor": "#E5ECF6",
            "gridcolor": "white",
            "gridwidth": 2,
            "linecolor": "white",
            "showbackground": true,
            "ticks": "",
            "zerolinecolor": "white"
           }
          },
          "shapedefaults": {
           "line": {
            "color": "#2a3f5f"
           }
          },
          "ternary": {
           "aaxis": {
            "gridcolor": "white",
            "linecolor": "white",
            "ticks": ""
           },
           "baxis": {
            "gridcolor": "white",
            "linecolor": "white",
            "ticks": ""
           },
           "bgcolor": "#E5ECF6",
           "caxis": {
            "gridcolor": "white",
            "linecolor": "white",
            "ticks": ""
           }
          },
          "title": {
           "x": 0.05
          },
          "xaxis": {
           "automargin": true,
           "gridcolor": "white",
           "linecolor": "white",
           "ticks": "",
           "title": {
            "standoff": 15
           },
           "zerolinecolor": "white",
           "zerolinewidth": 2
          },
          "yaxis": {
           "automargin": true,
           "gridcolor": "white",
           "linecolor": "white",
           "ticks": "",
           "title": {
            "standoff": 15
           },
           "zerolinecolor": "white",
           "zerolinewidth": 2
          }
         }
        },
        "title": {
         "text": "Frequency of variations of the name 'Chris' over time"
        },
        "xaxis": {
         "anchor": "y",
         "domain": [
          0,
          1
         ],
         "title": {
          "text": "year"
         }
        },
        "yaxis": {
         "anchor": "x",
         "domain": [
          0,
          1
         ],
         "title": {
          "text": "n"
         }
        }
       }
      },
      "text/html": [
       "<div>                            <div id=\"3271c643-f8dd-4e23-bd19-00df7b5c45b9\" class=\"plotly-graph-div\" style=\"height:525px; width:100%;\"></div>            <script type=\"text/javascript\">                require([\"plotly\"], function(Plotly) {                    window.PLOTLYENV=window.PLOTLYENV || {};                                    if (document.getElementById(\"3271c643-f8dd-4e23-bd19-00df7b5c45b9\")) {                    Plotly.newPlot(                        \"3271c643-f8dd-4e23-bd19-00df7b5c45b9\",                        [{\"hovertemplate\":\"sex=F<br>year=%{x}<br>n=%{y}<extra></extra>\",\"legendgroup\":\"F\",\"line\":{\"color\":\"#636efa\",\"dash\":\"solid\"},\"mode\":\"lines\",\"name\":\"F\",\"orientation\":\"v\",\"showlegend\":true,\"type\":\"scatter\",\"x\":[1914,1917,1919,1920,1921,1922,1923,1924,1925,1926,1927,1928,1929,1930,1931,1932,1933,1934,1935,1936,1937,1938,1939,1940,1941,1942,1943,1944,1945,1946,1947,1948,1949,1950,1951,1952,1953,1954,1955,1956,1957,1958,1959,1960,1961,1962,1963,1964,1965,1966,1967,1968,1969,1970,1971,1972,1973,1974,1975,1976,1977,1978,1979,1980,1981,1982,1983,1984,1985,1986,1987,1988,1989,1990,1991,1992,1993,1994,1995,1996,1997,1998,1999,2000,2001,2002,2003,2004,2005,2006,2007,2008,2009,2010,2011,2012,2013,2014,2015,2016,2017],\"xaxis\":\"x\",\"y\":[8,6,7,11,6,12,14,14,7,13,15,20,16,14,15,22,17,14,19,20,26,26,35,40,52,83,118,139,174,277,433,455,351,333,452,509,531,586,756,955,1508,1967,2061,2160,2253,2157,2204,2379,2116,1759,1486,1288,1085,927,664,558,473,386,356,305,272,270,233,200,155,146,102,99,94,85,71,73,56,60,69,50,53,42,45,50,42,29,27,32,31,31,26,35,21,19,26,30,25,24,15,23,30,24,32,22,20],\"yaxis\":\"y\"},{\"hovertemplate\":\"sex=M<br>year=%{x}<br>n=%{y}<extra></extra>\",\"legendgroup\":\"M\",\"line\":{\"color\":\"#EF553B\",\"dash\":\"solid\"},\"mode\":\"lines\",\"name\":\"M\",\"orientation\":\"v\",\"showlegend\":true,\"type\":\"scatter\",\"x\":[1880,1881,1882,1883,1884,1885,1886,1887,1888,1889,1890,1891,1892,1893,1894,1895,1896,1897,1898,1899,1900,1901,1902,1903,1904,1905,1906,1907,1908,1909,1910,1911,1912,1913,1914,1915,1916,1917,1918,1919,1920,1921,1922,1923,1924,1925,1926,1927,1928,1929,1930,1931,1932,1933,1934,1935,1936,1937,1938,1939,1940,1941,1942,1943,1944,1945,1946,1947,1948,1949,1950,1951,1952,1953,1954,1955,1956,1957,1958,1959,1960,1961,1962,1963,1964,1965,1966,1967,1968,1969,1970,1971,1972,1973,1974,1975,1976,1977,1978,1979,1980,1981,1982,1983,1984,1985,1986,1987,1988,1989,1990,1991,1992,1993,1994,1995,1996,1997,1998,1999,2000,2001,2002,2003,2004,2005,2006,2007,2008,2009,2010,2011,2012,2013,2014,2015,2016,2017],\"xaxis\":\"x\",\"y\":[49,52,39,47,57,55,62,46,59,42,32,32,49,40,45,41,53,35,33,36,45,26,37,35,27,25,30,29,37,48,32,43,82,81,126,145,155,145,187,134,180,147,175,162,184,187,168,153,164,176,172,154,208,147,186,186,190,202,234,252,326,339,398,474,573,591,895,1200,1422,1529,1376,1654,1971,1808,2058,2490,2863,3686,4986,6238,7081,7816,7396,6926,6155,5959,5696,4995,4590,4713,4943,4747,3920,3097,2737,2307,1936,1917,1738,1584,1223,1004,869,782,762,716,645,625,603,634,578,590,556,529,519,574,641,605,680,707,730,793,776,768,768,826,969,1030,1047,995,794,673,747,704,620,646,586,550],\"yaxis\":\"y\"}],                        {\"legend\":{\"title\":{\"text\":\"sex\"},\"tracegroupgap\":0},\"template\":{\"data\":{\"bar\":[{\"error_x\":{\"color\":\"#2a3f5f\"},\"error_y\":{\"color\":\"#2a3f5f\"},\"marker\":{\"line\":{\"color\":\"#E5ECF6\",\"width\":0.5},\"pattern\":{\"fillmode\":\"overlay\",\"size\":10,\"solidity\":0.2}},\"type\":\"bar\"}],\"barpolar\":[{\"marker\":{\"line\":{\"color\":\"#E5ECF6\",\"width\":0.5},\"pattern\":{\"fillmode\":\"overlay\",\"size\":10,\"solidity\":0.2}},\"type\":\"barpolar\"}],\"carpet\":[{\"aaxis\":{\"endlinecolor\":\"#2a3f5f\",\"gridcolor\":\"white\",\"linecolor\":\"white\",\"minorgridcolor\":\"white\",\"startlinecolor\":\"#2a3f5f\"},\"baxis\":{\"endlinecolor\":\"#2a3f5f\",\"gridcolor\":\"white\",\"linecolor\":\"white\",\"minorgridcolor\":\"white\",\"startlinecolor\":\"#2a3f5f\"},\"type\":\"carpet\"}],\"choropleth\":[{\"colorbar\":{\"outlinewidth\":0,\"ticks\":\"\"},\"type\":\"choropleth\"}],\"contour\":[{\"colorbar\":{\"outlinewidth\":0,\"ticks\":\"\"},\"colorscale\":[[0.0,\"#0d0887\"],[0.1111111111111111,\"#46039f\"],[0.2222222222222222,\"#7201a8\"],[0.3333333333333333,\"#9c179e\"],[0.4444444444444444,\"#bd3786\"],[0.5555555555555556,\"#d8576b\"],[0.6666666666666666,\"#ed7953\"],[0.7777777777777778,\"#fb9f3a\"],[0.8888888888888888,\"#fdca26\"],[1.0,\"#f0f921\"]],\"type\":\"contour\"}],\"contourcarpet\":[{\"colorbar\":{\"outlinewidth\":0,\"ticks\":\"\"},\"type\":\"contourcarpet\"}],\"heatmap\":[{\"colorbar\":{\"outlinewidth\":0,\"ticks\":\"\"},\"colorscale\":[[0.0,\"#0d0887\"],[0.1111111111111111,\"#46039f\"],[0.2222222222222222,\"#7201a8\"],[0.3333333333333333,\"#9c179e\"],[0.4444444444444444,\"#bd3786\"],[0.5555555555555556,\"#d8576b\"],[0.6666666666666666,\"#ed7953\"],[0.7777777777777778,\"#fb9f3a\"],[0.8888888888888888,\"#fdca26\"],[1.0,\"#f0f921\"]],\"type\":\"heatmap\"}],\"heatmapgl\":[{\"colorbar\":{\"outlinewidth\":0,\"ticks\":\"\"},\"colorscale\":[[0.0,\"#0d0887\"],[0.1111111111111111,\"#46039f\"],[0.2222222222222222,\"#7201a8\"],[0.3333333333333333,\"#9c179e\"],[0.4444444444444444,\"#bd3786\"],[0.5555555555555556,\"#d8576b\"],[0.6666666666666666,\"#ed7953\"],[0.7777777777777778,\"#fb9f3a\"],[0.8888888888888888,\"#fdca26\"],[1.0,\"#f0f921\"]],\"type\":\"heatmapgl\"}],\"histogram\":[{\"marker\":{\"pattern\":{\"fillmode\":\"overlay\",\"size\":10,\"solidity\":0.2}},\"type\":\"histogram\"}],\"histogram2d\":[{\"colorbar\":{\"outlinewidth\":0,\"ticks\":\"\"},\"colorscale\":[[0.0,\"#0d0887\"],[0.1111111111111111,\"#46039f\"],[0.2222222222222222,\"#7201a8\"],[0.3333333333333333,\"#9c179e\"],[0.4444444444444444,\"#bd3786\"],[0.5555555555555556,\"#d8576b\"],[0.6666666666666666,\"#ed7953\"],[0.7777777777777778,\"#fb9f3a\"],[0.8888888888888888,\"#fdca26\"],[1.0,\"#f0f921\"]],\"type\":\"histogram2d\"}],\"histogram2dcontour\":[{\"colorbar\":{\"outlinewidth\":0,\"ticks\":\"\"},\"colorscale\":[[0.0,\"#0d0887\"],[0.1111111111111111,\"#46039f\"],[0.2222222222222222,\"#7201a8\"],[0.3333333333333333,\"#9c179e\"],[0.4444444444444444,\"#bd3786\"],[0.5555555555555556,\"#d8576b\"],[0.6666666666666666,\"#ed7953\"],[0.7777777777777778,\"#fb9f3a\"],[0.8888888888888888,\"#fdca26\"],[1.0,\"#f0f921\"]],\"type\":\"histogram2dcontour\"}],\"mesh3d\":[{\"colorbar\":{\"outlinewidth\":0,\"ticks\":\"\"},\"type\":\"mesh3d\"}],\"parcoords\":[{\"line\":{\"colorbar\":{\"outlinewidth\":0,\"ticks\":\"\"}},\"type\":\"parcoords\"}],\"pie\":[{\"automargin\":true,\"type\":\"pie\"}],\"scatter\":[{\"marker\":{\"colorbar\":{\"outlinewidth\":0,\"ticks\":\"\"}},\"type\":\"scatter\"}],\"scatter3d\":[{\"line\":{\"colorbar\":{\"outlinewidth\":0,\"ticks\":\"\"}},\"marker\":{\"colorbar\":{\"outlinewidth\":0,\"ticks\":\"\"}},\"type\":\"scatter3d\"}],\"scattercarpet\":[{\"marker\":{\"colorbar\":{\"outlinewidth\":0,\"ticks\":\"\"}},\"type\":\"scattercarpet\"}],\"scattergeo\":[{\"marker\":{\"colorbar\":{\"outlinewidth\":0,\"ticks\":\"\"}},\"type\":\"scattergeo\"}],\"scattergl\":[{\"marker\":{\"colorbar\":{\"outlinewidth\":0,\"ticks\":\"\"}},\"type\":\"scattergl\"}],\"scattermapbox\":[{\"marker\":{\"colorbar\":{\"outlinewidth\":0,\"ticks\":\"\"}},\"type\":\"scattermapbox\"}],\"scatterpolar\":[{\"marker\":{\"colorbar\":{\"outlinewidth\":0,\"ticks\":\"\"}},\"type\":\"scatterpolar\"}],\"scatterpolargl\":[{\"marker\":{\"colorbar\":{\"outlinewidth\":0,\"ticks\":\"\"}},\"type\":\"scatterpolargl\"}],\"scatterternary\":[{\"marker\":{\"colorbar\":{\"outlinewidth\":0,\"ticks\":\"\"}},\"type\":\"scatterternary\"}],\"surface\":[{\"colorbar\":{\"outlinewidth\":0,\"ticks\":\"\"},\"colorscale\":[[0.0,\"#0d0887\"],[0.1111111111111111,\"#46039f\"],[0.2222222222222222,\"#7201a8\"],[0.3333333333333333,\"#9c179e\"],[0.4444444444444444,\"#bd3786\"],[0.5555555555555556,\"#d8576b\"],[0.6666666666666666,\"#ed7953\"],[0.7777777777777778,\"#fb9f3a\"],[0.8888888888888888,\"#fdca26\"],[1.0,\"#f0f921\"]],\"type\":\"surface\"}],\"table\":[{\"cells\":{\"fill\":{\"color\":\"#EBF0F8\"},\"line\":{\"color\":\"white\"}},\"header\":{\"fill\":{\"color\":\"#C8D4E3\"},\"line\":{\"color\":\"white\"}},\"type\":\"table\"}]},\"layout\":{\"annotationdefaults\":{\"arrowcolor\":\"#2a3f5f\",\"arrowhead\":0,\"arrowwidth\":1},\"autotypenumbers\":\"strict\",\"coloraxis\":{\"colorbar\":{\"outlinewidth\":0,\"ticks\":\"\"}},\"colorscale\":{\"diverging\":[[0,\"#8e0152\"],[0.1,\"#c51b7d\"],[0.2,\"#de77ae\"],[0.3,\"#f1b6da\"],[0.4,\"#fde0ef\"],[0.5,\"#f7f7f7\"],[0.6,\"#e6f5d0\"],[0.7,\"#b8e186\"],[0.8,\"#7fbc41\"],[0.9,\"#4d9221\"],[1,\"#276419\"]],\"sequential\":[[0.0,\"#0d0887\"],[0.1111111111111111,\"#46039f\"],[0.2222222222222222,\"#7201a8\"],[0.3333333333333333,\"#9c179e\"],[0.4444444444444444,\"#bd3786\"],[0.5555555555555556,\"#d8576b\"],[0.6666666666666666,\"#ed7953\"],[0.7777777777777778,\"#fb9f3a\"],[0.8888888888888888,\"#fdca26\"],[1.0,\"#f0f921\"]],\"sequentialminus\":[[0.0,\"#0d0887\"],[0.1111111111111111,\"#46039f\"],[0.2222222222222222,\"#7201a8\"],[0.3333333333333333,\"#9c179e\"],[0.4444444444444444,\"#bd3786\"],[0.5555555555555556,\"#d8576b\"],[0.6666666666666666,\"#ed7953\"],[0.7777777777777778,\"#fb9f3a\"],[0.8888888888888888,\"#fdca26\"],[1.0,\"#f0f921\"]]},\"colorway\":[\"#636efa\",\"#EF553B\",\"#00cc96\",\"#ab63fa\",\"#FFA15A\",\"#19d3f3\",\"#FF6692\",\"#B6E880\",\"#FF97FF\",\"#FECB52\"],\"font\":{\"color\":\"#2a3f5f\"},\"geo\":{\"bgcolor\":\"white\",\"lakecolor\":\"white\",\"landcolor\":\"#E5ECF6\",\"showlakes\":true,\"showland\":true,\"subunitcolor\":\"white\"},\"hoverlabel\":{\"align\":\"left\"},\"hovermode\":\"closest\",\"mapbox\":{\"style\":\"light\"},\"paper_bgcolor\":\"white\",\"plot_bgcolor\":\"#E5ECF6\",\"polar\":{\"angularaxis\":{\"gridcolor\":\"white\",\"linecolor\":\"white\",\"ticks\":\"\"},\"bgcolor\":\"#E5ECF6\",\"radialaxis\":{\"gridcolor\":\"white\",\"linecolor\":\"white\",\"ticks\":\"\"}},\"scene\":{\"xaxis\":{\"backgroundcolor\":\"#E5ECF6\",\"gridcolor\":\"white\",\"gridwidth\":2,\"linecolor\":\"white\",\"showbackground\":true,\"ticks\":\"\",\"zerolinecolor\":\"white\"},\"yaxis\":{\"backgroundcolor\":\"#E5ECF6\",\"gridcolor\":\"white\",\"gridwidth\":2,\"linecolor\":\"white\",\"showbackground\":true,\"ticks\":\"\",\"zerolinecolor\":\"white\"},\"zaxis\":{\"backgroundcolor\":\"#E5ECF6\",\"gridcolor\":\"white\",\"gridwidth\":2,\"linecolor\":\"white\",\"showbackground\":true,\"ticks\":\"\",\"zerolinecolor\":\"white\"}},\"shapedefaults\":{\"line\":{\"color\":\"#2a3f5f\"}},\"ternary\":{\"aaxis\":{\"gridcolor\":\"white\",\"linecolor\":\"white\",\"ticks\":\"\"},\"baxis\":{\"gridcolor\":\"white\",\"linecolor\":\"white\",\"ticks\":\"\"},\"bgcolor\":\"#E5ECF6\",\"caxis\":{\"gridcolor\":\"white\",\"linecolor\":\"white\",\"ticks\":\"\"}},\"title\":{\"x\":0.05},\"xaxis\":{\"automargin\":true,\"gridcolor\":\"white\",\"linecolor\":\"white\",\"ticks\":\"\",\"title\":{\"standoff\":15},\"zerolinecolor\":\"white\",\"zerolinewidth\":2},\"yaxis\":{\"automargin\":true,\"gridcolor\":\"white\",\"linecolor\":\"white\",\"ticks\":\"\",\"title\":{\"standoff\":15},\"zerolinecolor\":\"white\",\"zerolinewidth\":2}}},\"title\":{\"text\":\"Frequency of variations of the name 'Chris' over time\"},\"xaxis\":{\"anchor\":\"y\",\"domain\":[0.0,1.0],\"title\":{\"text\":\"year\"}},\"yaxis\":{\"anchor\":\"x\",\"domain\":[0.0,1.0],\"title\":{\"text\":\"n\"}}},                        {\"responsive\": true}                    ).then(function(){\n",
       "                            \n",
       "var gd = document.getElementById('3271c643-f8dd-4e23-bd19-00df7b5c45b9');\n",
       "var x = new MutationObserver(function (mutations, observer) {{\n",
       "        var display = window.getComputedStyle(gd).display;\n",
       "        if (!display || display === 'none') {{\n",
       "            console.log([gd, 'removed!']);\n",
       "            Plotly.purge(gd);\n",
       "            observer.disconnect();\n",
       "        }}\n",
       "}});\n",
       "\n",
       "// Listen for the removal of the full notebook cells\n",
       "var notebookContainer = gd.closest('#notebook-container');\n",
       "if (notebookContainer) {{\n",
       "    x.observe(notebookContainer, {childList: true});\n",
       "}}\n",
       "\n",
       "// Listen for the clearing of the current output cell\n",
       "var outputEl = gd.closest('.output');\n",
       "if (outputEl) {{\n",
       "    x.observe(outputEl, {childList: true});\n",
       "}}\n",
       "\n",
       "                        })                };                });            </script>        </div>"
      ]
     },
     "metadata": {},
     "output_type": "display_data"
    }
   ],
   "source": [
    "# 3. Using plotly express, make a plot of the names over time with aggregated frequency \n",
    "# (either proportion or count is fine) on the y-axis, year on the x-axis, and separate \n",
    "# lines for males and females. (See example below - or figure \"pxfig.png\" in repository).\n",
    "\n",
    "# Import plotyly.express as px\n",
    "import plotly.express as px\n",
    "\n",
    "# Group by sex and year, reset the index\n",
    "plotDf = namesFinal.groupby(['sex', 'year']).sum()\n",
    "plotDf = plotDf.reset_index()\n",
    "\n",
    "# Plot this\n",
    "figure = px.line(plotDf, x = 'year', y = 'n', color = 'sex', title = \"Frequency of variations of the name 'Chris' over time\")\n",
    "figure.show()"
   ]
  }
 ],
 "metadata": {
  "kernelspec": {
   "display_name": "Python 3 (ipykernel)",
   "language": "python",
   "name": "python3"
  },
  "language_info": {
   "codemirror_mode": {
    "name": "ipython",
    "version": 3
   },
   "file_extension": ".py",
   "mimetype": "text/x-python",
   "name": "python",
   "nbconvert_exporter": "python",
   "pygments_lexer": "ipython3",
   "version": "3.9.2"
  }
 },
 "nbformat": 4,
 "nbformat_minor": 5
}
